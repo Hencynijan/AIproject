{
  "nbformat": 4,
  "nbformat_minor": 0,
  "metadata": {
    "colab": {
      "provenance": []
    },
    "kernelspec": {
      "name": "python3",
      "display_name": "Python 3"
    },
    "language_info": {
      "name": "python"
    }
  },
  "cells": [
    {
      "cell_type": "code",
      "execution_count": null,
      "metadata": {
        "colab": {
          "base_uri": "https://localhost:8080/"
        },
        "id": "vCSg26QixE4C",
        "outputId": "0051eb42-5e74-4fd5-9cf8-5bb78a02cac6"
      },
      "outputs": [
        {
          "output_type": "stream",
          "name": "stdout",
          "text": [
            "<class 'pandas.core.frame.DataFrame'>\n",
            "RangeIndex: 768 entries, 0 to 767\n",
            "Data columns (total 9 columns):\n",
            " #   Column                    Non-Null Count  Dtype  \n",
            "---  ------                    --------------  -----  \n",
            " 0   Pregnancies               768 non-null    int64  \n",
            " 1   Glucose                   768 non-null    int64  \n",
            " 2   BloodPressure             768 non-null    int64  \n",
            " 3   SkinThickness             768 non-null    int64  \n",
            " 4   Insulin                   768 non-null    int64  \n",
            " 5   BMI                       768 non-null    float64\n",
            " 6   DiabetesPedigreeFunction  768 non-null    float64\n",
            " 7   Age                       768 non-null    int64  \n",
            " 8   Outcome                   768 non-null    int64  \n",
            "dtypes: float64(2), int64(7)\n",
            "memory usage: 54.1 KB\n"
          ]
        }
      ],
      "source": [
        "import pandas as pd\n",
        "import numpy as np\n",
        "import matplotlib.pyplot as plt\n",
        "import seaborn as sns\n",
        "from sklearn.model_selection import train_test_split\n",
        "from sklearn.linear_model import LinearRegression, LogisticRegression\n",
        "from sklearn.linear_model import LinearRegression, LogisticRegression\n",
        "from sklearn.neighbors import KNeighborsClassifier\n",
        "from sklearn.metrics import classification_report\n",
        "from sklearn.metrics import accuracy_score\n",
        "from sklearn.metrics import confusion_matrix\n",
        "\n",
        "from sklearn.model_selection import train_test_split\n",
        "\n",
        "from sklearn.metrics import (\n",
        "    mean_squared_error,\n",
        "    mean_absolute_error,\n",
        "    r2_score,\n",
        "    accuracy_score,\n",
        "    precision_score,\n",
        "    recall_score,\n",
        "    f1_score,\n",
        "    roc_auc_score,\n",
        "    confusion_matrix\n",
        ")\n",
        "from sklearn.preprocessing import StandardScaler\n",
        "data = pd.read_csv(\"/content/drive/MyDrive/Datasets-20241201T040656Z-001/Datasets/diabetes.csv\")\n",
        "(data.info())"
      ]
    },
    {
      "cell_type": "code",
      "source": [
        "data.isnull().sum()"
      ],
      "metadata": {
        "colab": {
          "base_uri": "https://localhost:8080/",
          "height": 366
        },
        "id": "_ebVuQB73lAi",
        "outputId": "014a5fd6-379e-4448-ce20-99c5bb56cdf1"
      },
      "execution_count": null,
      "outputs": [
        {
          "output_type": "execute_result",
          "data": {
            "text/plain": [
              "Pregnancies                 0\n",
              "Glucose                     0\n",
              "BloodPressure               0\n",
              "SkinThickness               0\n",
              "Insulin                     0\n",
              "BMI                         0\n",
              "DiabetesPedigreeFunction    0\n",
              "Age                         0\n",
              "Outcome                     0\n",
              "dtype: int64"
            ],
            "text/html": [
              "<div>\n",
              "<style scoped>\n",
              "    .dataframe tbody tr th:only-of-type {\n",
              "        vertical-align: middle;\n",
              "    }\n",
              "\n",
              "    .dataframe tbody tr th {\n",
              "        vertical-align: top;\n",
              "    }\n",
              "\n",
              "    .dataframe thead th {\n",
              "        text-align: right;\n",
              "    }\n",
              "</style>\n",
              "<table border=\"1\" class=\"dataframe\">\n",
              "  <thead>\n",
              "    <tr style=\"text-align: right;\">\n",
              "      <th></th>\n",
              "      <th>0</th>\n",
              "    </tr>\n",
              "  </thead>\n",
              "  <tbody>\n",
              "    <tr>\n",
              "      <th>Pregnancies</th>\n",
              "      <td>0</td>\n",
              "    </tr>\n",
              "    <tr>\n",
              "      <th>Glucose</th>\n",
              "      <td>0</td>\n",
              "    </tr>\n",
              "    <tr>\n",
              "      <th>BloodPressure</th>\n",
              "      <td>0</td>\n",
              "    </tr>\n",
              "    <tr>\n",
              "      <th>SkinThickness</th>\n",
              "      <td>0</td>\n",
              "    </tr>\n",
              "    <tr>\n",
              "      <th>Insulin</th>\n",
              "      <td>0</td>\n",
              "    </tr>\n",
              "    <tr>\n",
              "      <th>BMI</th>\n",
              "      <td>0</td>\n",
              "    </tr>\n",
              "    <tr>\n",
              "      <th>DiabetesPedigreeFunction</th>\n",
              "      <td>0</td>\n",
              "    </tr>\n",
              "    <tr>\n",
              "      <th>Age</th>\n",
              "      <td>0</td>\n",
              "    </tr>\n",
              "    <tr>\n",
              "      <th>Outcome</th>\n",
              "      <td>0</td>\n",
              "    </tr>\n",
              "  </tbody>\n",
              "</table>\n",
              "</div><br><label><b>dtype:</b> int64</label>"
            ]
          },
          "metadata": {},
          "execution_count": 14
        }
      ]
    },
    {
      "cell_type": "markdown",
      "source": [
        "Regression task\n"
      ],
      "metadata": {
        "id": "eIQcCMmM76eP"
      }
    },
    {
      "cell_type": "code",
      "source": [
        "blood_pressure_data = data.copy()\n",
        "blood_pressure_data.head()"
      ],
      "metadata": {
        "colab": {
          "base_uri": "https://localhost:8080/",
          "height": 226
        },
        "id": "_1HWrasR7cgE",
        "outputId": "4751d420-11a3-4f7c-ab86-26dcce0054f3"
      },
      "execution_count": null,
      "outputs": [
        {
          "output_type": "execute_result",
          "data": {
            "text/plain": [
              "   Pregnancies  Glucose  BloodPressure  SkinThickness  Insulin   BMI  \\\n",
              "0            6      148             72             35        0  33.6   \n",
              "1            1       85             66             29        0  26.6   \n",
              "2            8      183             64              0        0  23.3   \n",
              "3            1       89             66             23       94  28.1   \n",
              "4            0      137             40             35      168  43.1   \n",
              "\n",
              "   DiabetesPedigreeFunction  Age  Outcome  \n",
              "0                     0.627   50        1  \n",
              "1                     0.351   31        0  \n",
              "2                     0.672   32        1  \n",
              "3                     0.167   21        0  \n",
              "4                     2.288   33        1  "
            ],
            "text/html": [
              "\n",
              "  <div id=\"df-0eb8a6ec-e233-440c-8b97-379c8f62dfd0\" class=\"colab-df-container\">\n",
              "    <div>\n",
              "<style scoped>\n",
              "    .dataframe tbody tr th:only-of-type {\n",
              "        vertical-align: middle;\n",
              "    }\n",
              "\n",
              "    .dataframe tbody tr th {\n",
              "        vertical-align: top;\n",
              "    }\n",
              "\n",
              "    .dataframe thead th {\n",
              "        text-align: right;\n",
              "    }\n",
              "</style>\n",
              "<table border=\"1\" class=\"dataframe\">\n",
              "  <thead>\n",
              "    <tr style=\"text-align: right;\">\n",
              "      <th></th>\n",
              "      <th>Pregnancies</th>\n",
              "      <th>Glucose</th>\n",
              "      <th>BloodPressure</th>\n",
              "      <th>SkinThickness</th>\n",
              "      <th>Insulin</th>\n",
              "      <th>BMI</th>\n",
              "      <th>DiabetesPedigreeFunction</th>\n",
              "      <th>Age</th>\n",
              "      <th>Outcome</th>\n",
              "    </tr>\n",
              "  </thead>\n",
              "  <tbody>\n",
              "    <tr>\n",
              "      <th>0</th>\n",
              "      <td>6</td>\n",
              "      <td>148</td>\n",
              "      <td>72</td>\n",
              "      <td>35</td>\n",
              "      <td>0</td>\n",
              "      <td>33.6</td>\n",
              "      <td>0.627</td>\n",
              "      <td>50</td>\n",
              "      <td>1</td>\n",
              "    </tr>\n",
              "    <tr>\n",
              "      <th>1</th>\n",
              "      <td>1</td>\n",
              "      <td>85</td>\n",
              "      <td>66</td>\n",
              "      <td>29</td>\n",
              "      <td>0</td>\n",
              "      <td>26.6</td>\n",
              "      <td>0.351</td>\n",
              "      <td>31</td>\n",
              "      <td>0</td>\n",
              "    </tr>\n",
              "    <tr>\n",
              "      <th>2</th>\n",
              "      <td>8</td>\n",
              "      <td>183</td>\n",
              "      <td>64</td>\n",
              "      <td>0</td>\n",
              "      <td>0</td>\n",
              "      <td>23.3</td>\n",
              "      <td>0.672</td>\n",
              "      <td>32</td>\n",
              "      <td>1</td>\n",
              "    </tr>\n",
              "    <tr>\n",
              "      <th>3</th>\n",
              "      <td>1</td>\n",
              "      <td>89</td>\n",
              "      <td>66</td>\n",
              "      <td>23</td>\n",
              "      <td>94</td>\n",
              "      <td>28.1</td>\n",
              "      <td>0.167</td>\n",
              "      <td>21</td>\n",
              "      <td>0</td>\n",
              "    </tr>\n",
              "    <tr>\n",
              "      <th>4</th>\n",
              "      <td>0</td>\n",
              "      <td>137</td>\n",
              "      <td>40</td>\n",
              "      <td>35</td>\n",
              "      <td>168</td>\n",
              "      <td>43.1</td>\n",
              "      <td>2.288</td>\n",
              "      <td>33</td>\n",
              "      <td>1</td>\n",
              "    </tr>\n",
              "  </tbody>\n",
              "</table>\n",
              "</div>\n",
              "    <div class=\"colab-df-buttons\">\n",
              "\n",
              "  <div class=\"colab-df-container\">\n",
              "    <button class=\"colab-df-convert\" onclick=\"convertToInteractive('df-0eb8a6ec-e233-440c-8b97-379c8f62dfd0')\"\n",
              "            title=\"Convert this dataframe to an interactive table.\"\n",
              "            style=\"display:none;\">\n",
              "\n",
              "  <svg xmlns=\"http://www.w3.org/2000/svg\" height=\"24px\" viewBox=\"0 -960 960 960\">\n",
              "    <path d=\"M120-120v-720h720v720H120Zm60-500h600v-160H180v160Zm220 220h160v-160H400v160Zm0 220h160v-160H400v160ZM180-400h160v-160H180v160Zm440 0h160v-160H620v160ZM180-180h160v-160H180v160Zm440 0h160v-160H620v160Z\"/>\n",
              "  </svg>\n",
              "    </button>\n",
              "\n",
              "  <style>\n",
              "    .colab-df-container {\n",
              "      display:flex;\n",
              "      gap: 12px;\n",
              "    }\n",
              "\n",
              "    .colab-df-convert {\n",
              "      background-color: #E8F0FE;\n",
              "      border: none;\n",
              "      border-radius: 50%;\n",
              "      cursor: pointer;\n",
              "      display: none;\n",
              "      fill: #1967D2;\n",
              "      height: 32px;\n",
              "      padding: 0 0 0 0;\n",
              "      width: 32px;\n",
              "    }\n",
              "\n",
              "    .colab-df-convert:hover {\n",
              "      background-color: #E2EBFA;\n",
              "      box-shadow: 0px 1px 2px rgba(60, 64, 67, 0.3), 0px 1px 3px 1px rgba(60, 64, 67, 0.15);\n",
              "      fill: #174EA6;\n",
              "    }\n",
              "\n",
              "    .colab-df-buttons div {\n",
              "      margin-bottom: 4px;\n",
              "    }\n",
              "\n",
              "    [theme=dark] .colab-df-convert {\n",
              "      background-color: #3B4455;\n",
              "      fill: #D2E3FC;\n",
              "    }\n",
              "\n",
              "    [theme=dark] .colab-df-convert:hover {\n",
              "      background-color: #434B5C;\n",
              "      box-shadow: 0px 1px 3px 1px rgba(0, 0, 0, 0.15);\n",
              "      filter: drop-shadow(0px 1px 2px rgba(0, 0, 0, 0.3));\n",
              "      fill: #FFFFFF;\n",
              "    }\n",
              "  </style>\n",
              "\n",
              "    <script>\n",
              "      const buttonEl =\n",
              "        document.querySelector('#df-0eb8a6ec-e233-440c-8b97-379c8f62dfd0 button.colab-df-convert');\n",
              "      buttonEl.style.display =\n",
              "        google.colab.kernel.accessAllowed ? 'block' : 'none';\n",
              "\n",
              "      async function convertToInteractive(key) {\n",
              "        const element = document.querySelector('#df-0eb8a6ec-e233-440c-8b97-379c8f62dfd0');\n",
              "        const dataTable =\n",
              "          await google.colab.kernel.invokeFunction('convertToInteractive',\n",
              "                                                    [key], {});\n",
              "        if (!dataTable) return;\n",
              "\n",
              "        const docLinkHtml = 'Like what you see? Visit the ' +\n",
              "          '<a target=\"_blank\" href=https://colab.research.google.com/notebooks/data_table.ipynb>data table notebook</a>'\n",
              "          + ' to learn more about interactive tables.';\n",
              "        element.innerHTML = '';\n",
              "        dataTable['output_type'] = 'display_data';\n",
              "        await google.colab.output.renderOutput(dataTable, element);\n",
              "        const docLink = document.createElement('div');\n",
              "        docLink.innerHTML = docLinkHtml;\n",
              "        element.appendChild(docLink);\n",
              "      }\n",
              "    </script>\n",
              "  </div>\n",
              "\n",
              "\n",
              "<div id=\"df-bf22f442-dc8f-4a86-9be4-14e731ba28cb\">\n",
              "  <button class=\"colab-df-quickchart\" onclick=\"quickchart('df-bf22f442-dc8f-4a86-9be4-14e731ba28cb')\"\n",
              "            title=\"Suggest charts\"\n",
              "            style=\"display:none;\">\n",
              "\n",
              "<svg xmlns=\"http://www.w3.org/2000/svg\" height=\"24px\"viewBox=\"0 0 24 24\"\n",
              "     width=\"24px\">\n",
              "    <g>\n",
              "        <path d=\"M19 3H5c-1.1 0-2 .9-2 2v14c0 1.1.9 2 2 2h14c1.1 0 2-.9 2-2V5c0-1.1-.9-2-2-2zM9 17H7v-7h2v7zm4 0h-2V7h2v10zm4 0h-2v-4h2v4z\"/>\n",
              "    </g>\n",
              "</svg>\n",
              "  </button>\n",
              "\n",
              "<style>\n",
              "  .colab-df-quickchart {\n",
              "      --bg-color: #E8F0FE;\n",
              "      --fill-color: #1967D2;\n",
              "      --hover-bg-color: #E2EBFA;\n",
              "      --hover-fill-color: #174EA6;\n",
              "      --disabled-fill-color: #AAA;\n",
              "      --disabled-bg-color: #DDD;\n",
              "  }\n",
              "\n",
              "  [theme=dark] .colab-df-quickchart {\n",
              "      --bg-color: #3B4455;\n",
              "      --fill-color: #D2E3FC;\n",
              "      --hover-bg-color: #434B5C;\n",
              "      --hover-fill-color: #FFFFFF;\n",
              "      --disabled-bg-color: #3B4455;\n",
              "      --disabled-fill-color: #666;\n",
              "  }\n",
              "\n",
              "  .colab-df-quickchart {\n",
              "    background-color: var(--bg-color);\n",
              "    border: none;\n",
              "    border-radius: 50%;\n",
              "    cursor: pointer;\n",
              "    display: none;\n",
              "    fill: var(--fill-color);\n",
              "    height: 32px;\n",
              "    padding: 0;\n",
              "    width: 32px;\n",
              "  }\n",
              "\n",
              "  .colab-df-quickchart:hover {\n",
              "    background-color: var(--hover-bg-color);\n",
              "    box-shadow: 0 1px 2px rgba(60, 64, 67, 0.3), 0 1px 3px 1px rgba(60, 64, 67, 0.15);\n",
              "    fill: var(--button-hover-fill-color);\n",
              "  }\n",
              "\n",
              "  .colab-df-quickchart-complete:disabled,\n",
              "  .colab-df-quickchart-complete:disabled:hover {\n",
              "    background-color: var(--disabled-bg-color);\n",
              "    fill: var(--disabled-fill-color);\n",
              "    box-shadow: none;\n",
              "  }\n",
              "\n",
              "  .colab-df-spinner {\n",
              "    border: 2px solid var(--fill-color);\n",
              "    border-color: transparent;\n",
              "    border-bottom-color: var(--fill-color);\n",
              "    animation:\n",
              "      spin 1s steps(1) infinite;\n",
              "  }\n",
              "\n",
              "  @keyframes spin {\n",
              "    0% {\n",
              "      border-color: transparent;\n",
              "      border-bottom-color: var(--fill-color);\n",
              "      border-left-color: var(--fill-color);\n",
              "    }\n",
              "    20% {\n",
              "      border-color: transparent;\n",
              "      border-left-color: var(--fill-color);\n",
              "      border-top-color: var(--fill-color);\n",
              "    }\n",
              "    30% {\n",
              "      border-color: transparent;\n",
              "      border-left-color: var(--fill-color);\n",
              "      border-top-color: var(--fill-color);\n",
              "      border-right-color: var(--fill-color);\n",
              "    }\n",
              "    40% {\n",
              "      border-color: transparent;\n",
              "      border-right-color: var(--fill-color);\n",
              "      border-top-color: var(--fill-color);\n",
              "    }\n",
              "    60% {\n",
              "      border-color: transparent;\n",
              "      border-right-color: var(--fill-color);\n",
              "    }\n",
              "    80% {\n",
              "      border-color: transparent;\n",
              "      border-right-color: var(--fill-color);\n",
              "      border-bottom-color: var(--fill-color);\n",
              "    }\n",
              "    90% {\n",
              "      border-color: transparent;\n",
              "      border-bottom-color: var(--fill-color);\n",
              "    }\n",
              "  }\n",
              "</style>\n",
              "\n",
              "  <script>\n",
              "    async function quickchart(key) {\n",
              "      const quickchartButtonEl =\n",
              "        document.querySelector('#' + key + ' button');\n",
              "      quickchartButtonEl.disabled = true;  // To prevent multiple clicks.\n",
              "      quickchartButtonEl.classList.add('colab-df-spinner');\n",
              "      try {\n",
              "        const charts = await google.colab.kernel.invokeFunction(\n",
              "            'suggestCharts', [key], {});\n",
              "      } catch (error) {\n",
              "        console.error('Error during call to suggestCharts:', error);\n",
              "      }\n",
              "      quickchartButtonEl.classList.remove('colab-df-spinner');\n",
              "      quickchartButtonEl.classList.add('colab-df-quickchart-complete');\n",
              "    }\n",
              "    (() => {\n",
              "      let quickchartButtonEl =\n",
              "        document.querySelector('#df-bf22f442-dc8f-4a86-9be4-14e731ba28cb button');\n",
              "      quickchartButtonEl.style.display =\n",
              "        google.colab.kernel.accessAllowed ? 'block' : 'none';\n",
              "    })();\n",
              "  </script>\n",
              "</div>\n",
              "\n",
              "    </div>\n",
              "  </div>\n"
            ],
            "application/vnd.google.colaboratory.intrinsic+json": {
              "type": "dataframe",
              "variable_name": "blood_pressure_data",
              "summary": "{\n  \"name\": \"blood_pressure_data\",\n  \"rows\": 768,\n  \"fields\": [\n    {\n      \"column\": \"Pregnancies\",\n      \"properties\": {\n        \"dtype\": \"number\",\n        \"std\": 3,\n        \"min\": 0,\n        \"max\": 17,\n        \"num_unique_values\": 17,\n        \"samples\": [\n          6,\n          1,\n          3\n        ],\n        \"semantic_type\": \"\",\n        \"description\": \"\"\n      }\n    },\n    {\n      \"column\": \"Glucose\",\n      \"properties\": {\n        \"dtype\": \"number\",\n        \"std\": 31,\n        \"min\": 0,\n        \"max\": 199,\n        \"num_unique_values\": 136,\n        \"samples\": [\n          151,\n          101,\n          112\n        ],\n        \"semantic_type\": \"\",\n        \"description\": \"\"\n      }\n    },\n    {\n      \"column\": \"BloodPressure\",\n      \"properties\": {\n        \"dtype\": \"number\",\n        \"std\": 19,\n        \"min\": 0,\n        \"max\": 122,\n        \"num_unique_values\": 47,\n        \"samples\": [\n          86,\n          46,\n          85\n        ],\n        \"semantic_type\": \"\",\n        \"description\": \"\"\n      }\n    },\n    {\n      \"column\": \"SkinThickness\",\n      \"properties\": {\n        \"dtype\": \"number\",\n        \"std\": 15,\n        \"min\": 0,\n        \"max\": 99,\n        \"num_unique_values\": 51,\n        \"samples\": [\n          7,\n          12,\n          48\n        ],\n        \"semantic_type\": \"\",\n        \"description\": \"\"\n      }\n    },\n    {\n      \"column\": \"Insulin\",\n      \"properties\": {\n        \"dtype\": \"number\",\n        \"std\": 115,\n        \"min\": 0,\n        \"max\": 846,\n        \"num_unique_values\": 186,\n        \"samples\": [\n          52,\n          41,\n          183\n        ],\n        \"semantic_type\": \"\",\n        \"description\": \"\"\n      }\n    },\n    {\n      \"column\": \"BMI\",\n      \"properties\": {\n        \"dtype\": \"number\",\n        \"std\": 7.8841603203754405,\n        \"min\": 0.0,\n        \"max\": 67.1,\n        \"num_unique_values\": 248,\n        \"samples\": [\n          19.9,\n          31.0,\n          38.1\n        ],\n        \"semantic_type\": \"\",\n        \"description\": \"\"\n      }\n    },\n    {\n      \"column\": \"DiabetesPedigreeFunction\",\n      \"properties\": {\n        \"dtype\": \"number\",\n        \"std\": 0.33132859501277484,\n        \"min\": 0.078,\n        \"max\": 2.42,\n        \"num_unique_values\": 517,\n        \"samples\": [\n          1.731,\n          0.426,\n          0.138\n        ],\n        \"semantic_type\": \"\",\n        \"description\": \"\"\n      }\n    },\n    {\n      \"column\": \"Age\",\n      \"properties\": {\n        \"dtype\": \"number\",\n        \"std\": 11,\n        \"min\": 21,\n        \"max\": 81,\n        \"num_unique_values\": 52,\n        \"samples\": [\n          60,\n          47,\n          72\n        ],\n        \"semantic_type\": \"\",\n        \"description\": \"\"\n      }\n    },\n    {\n      \"column\": \"Outcome\",\n      \"properties\": {\n        \"dtype\": \"number\",\n        \"std\": 0,\n        \"min\": 0,\n        \"max\": 1,\n        \"num_unique_values\": 2,\n        \"samples\": [\n          0,\n          1\n        ],\n        \"semantic_type\": \"\",\n        \"description\": \"\"\n      }\n    }\n  ]\n}"
            }
          },
          "metadata": {},
          "execution_count": 15
        }
      ]
    },
    {
      "cell_type": "code",
      "source": [
        "x = blood_pressure_data.drop(columns=['BloodPressure']).values\n",
        "x"
      ],
      "metadata": {
        "colab": {
          "base_uri": "https://localhost:8080/"
        },
        "id": "CUwtJcPn8gAx",
        "outputId": "325c3d1c-c50a-44a9-98c7-ade845f08293"
      },
      "execution_count": null,
      "outputs": [
        {
          "output_type": "execute_result",
          "data": {
            "text/plain": [
              "array([[  6.   , 148.   ,  35.   , ...,   0.627,  50.   ,   1.   ],\n",
              "       [  1.   ,  85.   ,  29.   , ...,   0.351,  31.   ,   0.   ],\n",
              "       [  8.   , 183.   ,   0.   , ...,   0.672,  32.   ,   1.   ],\n",
              "       ...,\n",
              "       [  5.   , 121.   ,  23.   , ...,   0.245,  30.   ,   0.   ],\n",
              "       [  1.   , 126.   ,   0.   , ...,   0.349,  47.   ,   1.   ],\n",
              "       [  1.   ,  93.   ,  31.   , ...,   0.315,  23.   ,   0.   ]])"
            ]
          },
          "metadata": {},
          "execution_count": 16
        }
      ]
    },
    {
      "cell_type": "code",
      "source": [
        "y = blood_pressure_data['BloodPressure'].values\n",
        "y"
      ],
      "metadata": {
        "colab": {
          "base_uri": "https://localhost:8080/"
        },
        "id": "CFmNBaxx8oNT",
        "outputId": "f641b13b-1951-4fda-8054-c84211d8d35d"
      },
      "execution_count": null,
      "outputs": [
        {
          "output_type": "execute_result",
          "data": {
            "text/plain": [
              "array([ 72,  66,  64,  66,  40,  74,  50,   0,  70,  96,  92,  74,  80,\n",
              "        60,  72,   0,  84,  74,  30,  70,  88,  84,  90,  80,  94,  70,\n",
              "        76,  66,  82,  92,  75,  76,  58,  92,  78,  60,  76,  76,  68,\n",
              "        72,  64,  84,  92, 110,  64,  66,  56,  70,  66,   0,  80,  50,\n",
              "        66,  90,  66,  50,  68,  88,  82,  64,   0,  72,  62,  58,  66,\n",
              "        74,  88,  92,  66,  85,  66,  64,  90,  86,  75,  48,  78,  72,\n",
              "         0,  66,  44,   0,  78,  65, 108,  74,  72,  68,  70,  68,  55,\n",
              "        80,  78,  72,  82,  72,  62,  48,  50,  90,  72,  60,  96,  72,\n",
              "        65,  56, 122,  58,  58,  85,  72,  62,  76,  62,  54,  92,  74,\n",
              "        48,  60,  76,  76,  64,  74,  80,  76,  30,  70,  58,  88,  84,\n",
              "        70,  56,  64,  74,  68,  60,  70,  60,  80,  72,  78,  82,  52,\n",
              "        66,  62,  75,  80,  64,  78,  70,  74,  65,  86,  82,  78,  88,\n",
              "        52,  56,  74,  72,  90,  74,  80,  64,  88,  74,  66,  68,  66,\n",
              "        90,  82,  70,   0,  60,  64,  72,  78, 110,  78,  82,  80,  64,\n",
              "        74,  60,  74,  68,  68,  98,  76,  80,  62,  70,  66,   0,  55,\n",
              "        84,  58,  62,  64,  60,  80,  82,  68,  70,  72,  72,  76, 104,\n",
              "        64,  84,  60,  85,  95,  65,  82,  70,  62,  68,  74,  66,  60,\n",
              "        90,   0,  60,  66,  78,  76,  52,  70,  80,  86,  80,  80,  68,\n",
              "        68,  72,  84,  90,  84,  76,  64,  70,  54,  50,  76,  85,  68,\n",
              "        90,  70,  86,  52,  84,  80,  68,  62,  64,  56,  68,  50,  76,\n",
              "        68,   0,  70,  80,  62,  74,   0,  64,  52,   0,  86,  62,  78,\n",
              "        78,  70,  70,  60,  64,  74,  62,  70,  76,  88,  86,  80,  74,\n",
              "        84,  86,  56,  72,  88,  62,  78,  48,  50,  62,  70,  84,  78,\n",
              "        72,   0,  58,  82,  98,  76,  76,  68,  68,  68,  68,  66,  70,\n",
              "        74,  50,  80,  68,  80,  74,  66,  78,  60,  74,  70,  90,  75,\n",
              "        72,  64,  70,  86,  70,  72,  58,   0,  80,  60,  76,   0,  76,\n",
              "        78,  84,  70,  74,  68,  86,  72,  88,  46,   0,  62,  80,  80,\n",
              "        84,  82,  62,  78,  88,  50,   0,  74,  76,  64,  70, 108,  78,\n",
              "        74,  54,  72,  64,  86, 102,  82,  64,  64,  58,  52,  82,  82,\n",
              "        60,  75, 100,  72,  68,  60,  62,  70,  54,  74, 100,  82,  68,\n",
              "        66,  76,  64,  72,  78,  58,  56,  66,  70,  70,  64,  61,  84,\n",
              "        78,  64,  48,  72,  62,  74,  68,  90,  72,  84,  74,  60,  84,\n",
              "        68,  82,  68,  64,  88,  68,  64,  64,  78,  78,   0,  64,  94,\n",
              "        82,   0,  74,  74,  75,  68,   0,  85,  75,  70,  88, 104,  66,\n",
              "        64,  70,  62,  78,  72,  80,  64,  74,  64,  70,  68,   0,  54,\n",
              "        62,  54,  68,  84,  74,  72,  62,  70,  78,  98,  56,  52,  64,\n",
              "         0,  78,  82,  70,  66,  90,  64,  84,  80,  76,  74,  86,  70,\n",
              "        88,  58,  82,   0,  68,  62,  78,  72,  80,  65,  90,  68,  70,\n",
              "         0,  74,  68,  72,  70,  74,  90,  72,  68,  64,  78,  82,  90,\n",
              "        60,  50,  78,  72,  62,  68,  62,  54,  70,  88,  86,  60,  90,\n",
              "        70,  80,   0,  70,  58,  60,  64,  74,  66,  65,  60,  76,  66,\n",
              "         0,  56,   0,  90,  60,  80,  92,  74,  72,  85,  90,  78,  90,\n",
              "        76,  68,  82, 110,  70,  68,  88,  62,  64,  70,  70,  76,  68,\n",
              "        74,  76,  66,  68,  60,  80,  54,  72,  62,  72,  66,  70,  96,\n",
              "        58,  60,  86,  44,  44,  80,  68,  70,  90,  60,  78,  76,  76,\n",
              "        56,  66,  66,  86,   0,  84,  78,  80,  52,  72,  82,  76,  24,\n",
              "        74,  38,  88,   0,  74,  78,   0,  60,  78,  62,  82,  62,  54,\n",
              "        58,  88,  80,  74,  72,  96,  62,  82,   0,  86,  76,  94,  70,\n",
              "        64,  88,  68,  78,  80,  65,  64,  78,  60,  82,  62,  72,  74,\n",
              "        76,  76,  74,  86,  70,  80,   0,  72,  74,  74,  50,  84,  60,\n",
              "        54,  60,  74,  54,  70,  52,  58,  80, 106,  82,  84,  76, 106,\n",
              "        80,  60,  80,  82,  70,  58,  78,  68,  58, 106, 100,  82,  70,\n",
              "        86,  60,  52,  58,  56,  76,  64,  80,  82,  74,  64,  50,  74,\n",
              "        82,  80, 114,  70,  68,  60,  90,  74,   0,  88,  70,  76,  78,\n",
              "        88,   0,  76,  80,   0,  46,  78,  64,  64,  78,  62,  58,  74,\n",
              "        50,  78,  72,  60,  76,  86,  66,  68,  86,  94,  78,  78,  84,\n",
              "        88,  52,  78,  86,  88,  56,  75,  60,  86,  72,  60,  74,  80,\n",
              "        44,  58,  94,  88,  84,  94,  74,  70,  62,  70,  78,  62,  88,\n",
              "        78,  88,  90,  72,  76,  92,  58,  74,  62,  76,  70,  72,  60,\n",
              "        70])"
            ]
          },
          "metadata": {},
          "execution_count": 17
        }
      ]
    },
    {
      "cell_type": "code",
      "source": [
        "from sklearn.preprocessing import StandardScaler\n",
        "scaler = StandardScaler()\n",
        "x = scaler.fit_transform(x)\n",
        "x"
      ],
      "metadata": {
        "colab": {
          "base_uri": "https://localhost:8080/"
        },
        "id": "B_Tckgn88-Uc",
        "outputId": "e6f8b77c-8d26-428b-ac34-324ad4c35ce1"
      },
      "execution_count": null,
      "outputs": [
        {
          "output_type": "execute_result",
          "data": {
            "text/plain": [
              "array([[ 0.63994726,  0.84832379,  0.90726993, ...,  0.46849198,\n",
              "         1.4259954 ,  1.36589591],\n",
              "       [-0.84488505, -1.12339636,  0.53090156, ..., -0.36506078,\n",
              "        -0.19067191, -0.73212021],\n",
              "       [ 1.23388019,  1.94372388, -1.28821221, ...,  0.60439732,\n",
              "        -0.10558415,  1.36589591],\n",
              "       ...,\n",
              "       [ 0.3429808 ,  0.00330087,  0.15453319, ..., -0.68519336,\n",
              "        -0.27575966, -0.73212021],\n",
              "       [-0.84488505,  0.1597866 , -1.28821221, ..., -0.37110101,\n",
              "         1.17073215,  1.36589591],\n",
              "       [-0.84488505, -0.8730192 ,  0.65635768, ..., -0.47378505,\n",
              "        -0.87137393, -0.73212021]])"
            ]
          },
          "metadata": {},
          "execution_count": 18
        }
      ]
    },
    {
      "cell_type": "code",
      "source": [
        "\n",
        "X_train_reg, X_test_reg, y_train_reg, y_test_reg = train_test_split(x, y, test_size=0.2, random_state=42)\n",
        "print(\"X_train:\", X_train_reg)\n",
        "print(\"X_test:\", X_test_reg)\n",
        "print(\"y_train:\", y_train_reg)\n",
        "print(\"y_test:\", y_test_reg)"
      ],
      "metadata": {
        "id": "PTDijPrf-1XT",
        "colab": {
          "base_uri": "https://localhost:8080/"
        },
        "outputId": "471afa59-1447-4119-9139-da63c7a19e39"
      },
      "execution_count": null,
      "outputs": [
        {
          "output_type": "stream",
          "name": "stdout",
          "text": [
            "X_train: [[-0.54791859 -1.15469351 -1.28821221 ... -0.50700636 -1.04154944\n",
            "  -0.73212021]\n",
            " [ 1.53084665 -0.27837344  0.21726125 ...  2.44666971  1.4259954\n",
            "   1.36589591]\n",
            " [-0.84488505  0.56664949 -0.09637905 ...  0.55003518 -0.95646168\n",
            "  -0.73212021]\n",
            " ...\n",
            " [ 1.82781311 -0.62264204  1.03272605 ...  2.00573238  0.40494237\n",
            "   1.36589591]\n",
            " [-1.14185152  0.62924378 -1.28821221 ... -0.8059981  -0.36084741\n",
            "   1.36589591]\n",
            " [-1.14185152  0.12848945 -1.28821221 ... -0.63385134 -1.04154944\n",
            "  -0.73212021]]\n",
            "X_test: [[ 0.63994726 -0.71653347  0.7818138  ... -0.1264714   0.83038113\n",
            "  -0.73212021]\n",
            " [-0.54791859 -0.27837344  0.71908574 ... -0.97814487 -1.04154944\n",
            "  -0.73212021]\n",
            " [-0.54791859 -0.40356202 -1.28821221 ... -0.94794368 -1.04154944\n",
            "  -0.73212021]\n",
            " ...\n",
            " [ 1.23388019 -0.81042491 -1.28821221 ...  0.03963513  2.02160968\n",
            "  -0.73212021]\n",
            " [-0.54791859  0.7857295   1.09545411 ... -0.40734244 -0.36084741\n",
            "   1.36589591]\n",
            " [ 1.23388019 -1.46766496  1.22091023 ...  0.70406123  0.49003012\n",
            "  -0.73212021]]\n",
            "y_train: [  0  82  46  50  80  70   0  68  60  55  60  72  74  85  68  56  64  66\n",
            "  62 100  84  86  60  84  74  88  82  82  76  94  78  70  74  64  78  72\n",
            "  50  72   0  86  82  72  75  54  62  64  74  78  76  58  84  76  58  88\n",
            "  68  90  74  76  58  65  94  56  90  70  84  70  72  78  50  74  62   0\n",
            "   0  64  80  70  82  60  72  68  68  30  52  78  64   0  68  65  72  60\n",
            "  60  92  76  38  76  70  82  74  66  58  98  60  72  60  70  58  84  88\n",
            "  78  60  80  64  70  64  75  88   0  65  54  62  78  72  68  82  76  58\n",
            "  46  90  74 110  92  68  70  82  68  78  80  60 110  66  92  68  96 104\n",
            "   0  74  56  82  64  64  72   0  68   0   0  96  86  90  90  64  78  62\n",
            "  78  72  70  90  72 102   0   0  80  74  70  54  82  48  64  64  66  90\n",
            "  76  62  84  70  70  48  30  82  72  84  72  92  86 106  68  74  74  74\n",
            "  70  90  88   0  70  66  60  62  86  74  74  78  52  60  68  66  88  56\n",
            "  80  64  82   0  84  70  74  58  64  68  60  72  78  82  84  64  82  76\n",
            "  70  62  74  70  76  58  78  68  82  74  85  72  44  74  62  64  52  94\n",
            "  82  70  70  60  70   0  78  74  66  50  80  62  74  76  78  70  44  90\n",
            "  68  60  85  78  70  68  74  78  84  78  70  76  74   0  86  62  78  60\n",
            "  76  64  88  76   0  70  74  70  70  64  86  94  72  62  92  88  64  82\n",
            "  80  58  86  66  80  60  56  80  74  88  66  74  76  70  84  66  94  76\n",
            "  66  76  90  80  72  70  80  78  86  62  74  70  78  76  62  80  75  80\n",
            "  74  80  76  56  90  60  52  78  82  64  80  72  52  58  96  55  80  80\n",
            "  64  58  66  44  80  88  86  90  68  78  62  76  85  72  68  64  76  90\n",
            "  65  78  86 104  54  24  70  88  76  68  68  98  56  68  78  70  84  60\n",
            "  74  80  82  70  72  64  80  62  62  90  62  78  72  68  80  58  66  56\n",
            "  62  62  48  64  74  60  68  70  68  84  80  84  84  62   0   0  66  78\n",
            "  86  88  76  74  88  78  64  62  66  68  76  80  68  58  68  54  74  90\n",
            "  74  74  50  88  82  70  66  52  64  66   0  82  90  64  68 106  60  70\n",
            "  80  74  54  72  58  60  74  82  84  74  68  72  60  64  86  72  62  86\n",
            "  76  64  66  54  68  40  80  50  88  76  50  60  72  68  70  58  80  68\n",
            "  66  52  86  80  75  56  68  76  80  70  80  62  70  50  88  74  70  66\n",
            "  72  52  64  68 100  98  62  66  76  62  84  62  62  72   0  82  74  70\n",
            "  61  80  56  54  68  66  72  66  44  72  78  50  64  54  72  80  84  80\n",
            "  88  70  60  68  88 100  78  66  74  74   0  70  78  50  72  68  64  80\n",
            "  70  84  76  72  82  64  76  80  84  50  74  90  60  70  54  74  90  86\n",
            "  68  76  70  80  90  64  68  84  72  82  52  64  74  88  76  64 122  86\n",
            "   0  96]\n",
            "y_test: [ 58  75  64  80  90  72  48   0  72  78  70  95  60  74  58  50  72  68\n",
            "   0  65  74  78  72  64  76  84  60  74  86  74  76  78  78   0  92  78\n",
            "  70  88  78   0  58  54  75  72  92  76  72  72  72  78  65  88  82  70\n",
            "  62  68  70   0  70  64  78  70  90  62  82  85  60 108  76  68  66  86\n",
            "  68  85  66 108  75  56  66  92  66  64  64  94  64  70  88  68  74  58\n",
            "  60  80   0   0  48  82  52  65  60  78  82  88  90  76  78  86  58  78\n",
            "  82  80  60  88   0 106  72  60  52  66  62   0  58  70  80  62  60  76\n",
            "   0  76   0 110  64  70  60  84  78  74  86 114  78  62  66  60  75  62\n",
            "  60  74  74  50  78  88  56  72  70  70]\n"
          ]
        }
      ]
    },
    {
      "cell_type": "code",
      "source": [
        "log_reg_model = LogisticRegression(max_iter=200)\n",
        "log_reg_model.fit(X_train_reg, y_train_reg)\n",
        "\n",
        "y_pred_log_reg = log_reg_model.predict(X_test_reg)\n",
        "print(\"Logistic Regression Results\")\n",
        "print(classification_report(y_test_reg, y_pred_log_reg))\n",
        "print(f\"Accuracy: {accuracy_score(y_test_reg, y_pred_log_reg)}\")"
      ],
      "metadata": {
        "colab": {
          "base_uri": "https://localhost:8080/"
        },
        "id": "-wfm4rI6hPxJ",
        "outputId": "2d7f73ac-47e5-4f23-fe31-2c6f85d2f933"
      },
      "execution_count": null,
      "outputs": [
        {
          "output_type": "stream",
          "name": "stdout",
          "text": [
            "Logistic Regression Results\n",
            "              precision    recall  f1-score   support\n",
            "\n",
            "           0       0.20      0.36      0.26        11\n",
            "          48       0.00      0.00      0.00         2\n",
            "          50       0.00      0.00      0.00         2\n",
            "          52       0.00      0.00      0.00         2\n",
            "          54       0.00      0.00      0.00         1\n",
            "          56       0.00      0.00      0.00         2\n",
            "          58       0.00      0.00      0.00         6\n",
            "          60       0.00      0.00      0.00        11\n",
            "          62       0.13      0.33      0.19         6\n",
            "          64       0.10      0.43      0.17         7\n",
            "          65       0.00      0.00      0.00         3\n",
            "          66       0.00      0.00      0.00         6\n",
            "          68       0.00      0.00      0.00         5\n",
            "          70       0.14      0.09      0.11        11\n",
            "          72       0.14      0.10      0.12        10\n",
            "          74       0.00      0.00      0.00         8\n",
            "          75       0.00      0.00      0.00         4\n",
            "          76       0.00      0.00      0.00         7\n",
            "          78       0.16      0.21      0.18        14\n",
            "          80       0.00      0.00      0.00         4\n",
            "          82       0.00      0.00      0.00         5\n",
            "          84       0.00      0.00      0.00         2\n",
            "          85       0.00      0.00      0.00         2\n",
            "          86       0.00      0.00      0.00         4\n",
            "          88       0.00      0.00      0.00         6\n",
            "          90       0.00      0.00      0.00         3\n",
            "          92       0.00      0.00      0.00         3\n",
            "          94       0.00      0.00      0.00         1\n",
            "          95       0.00      0.00      0.00         1\n",
            "         106       0.00      0.00      0.00         1\n",
            "         108       0.00      0.00      0.00         2\n",
            "         110       0.00      0.00      0.00         1\n",
            "         114       0.00      0.00      0.00         1\n",
            "\n",
            "    accuracy                           0.09       154\n",
            "   macro avg       0.03      0.05      0.03       154\n",
            "weighted avg       0.06      0.09      0.07       154\n",
            "\n",
            "Accuracy: 0.09090909090909091\n"
          ]
        },
        {
          "output_type": "stream",
          "name": "stderr",
          "text": [
            "/usr/local/lib/python3.10/dist-packages/sklearn/metrics/_classification.py:1565: UndefinedMetricWarning: Precision is ill-defined and being set to 0.0 in labels with no predicted samples. Use `zero_division` parameter to control this behavior.\n",
            "  _warn_prf(average, modifier, f\"{metric.capitalize()} is\", len(result))\n",
            "/usr/local/lib/python3.10/dist-packages/sklearn/metrics/_classification.py:1565: UndefinedMetricWarning: Precision is ill-defined and being set to 0.0 in labels with no predicted samples. Use `zero_division` parameter to control this behavior.\n",
            "  _warn_prf(average, modifier, f\"{metric.capitalize()} is\", len(result))\n",
            "/usr/local/lib/python3.10/dist-packages/sklearn/metrics/_classification.py:1565: UndefinedMetricWarning: Precision is ill-defined and being set to 0.0 in labels with no predicted samples. Use `zero_division` parameter to control this behavior.\n",
            "  _warn_prf(average, modifier, f\"{metric.capitalize()} is\", len(result))\n"
          ]
        }
      ]
    },
    {
      "cell_type": "code",
      "source": [
        "knn_model = KNeighborsClassifier(n_neighbors=5)\n",
        "knn_model.fit(X_train_reg, y_train_reg)\n",
        "\n",
        "y_pred_knn = knn_model.predict(X_test_reg)\n",
        "print(classification_report(y_test_reg, y_pred_knn))\n",
        "print(f\"Accuracy: {accuracy_score(y_test_reg, y_pred_knn)}\")"
      ],
      "metadata": {
        "colab": {
          "base_uri": "https://localhost:8080/"
        },
        "id": "5dT_Kw89hTxd",
        "outputId": "9484d6e1-7e92-480a-a150-eae83a0b49c8"
      },
      "execution_count": null,
      "outputs": [
        {
          "output_type": "stream",
          "name": "stdout",
          "text": [
            "              precision    recall  f1-score   support\n",
            "\n",
            "           0       0.25      0.55      0.34        11\n",
            "          24       0.00      0.00      0.00         0\n",
            "          44       0.00      0.00      0.00         0\n",
            "          46       0.00      0.00      0.00         0\n",
            "          48       0.00      0.00      0.00         2\n",
            "          50       0.00      0.00      0.00         2\n",
            "          52       0.00      0.00      0.00         2\n",
            "          54       0.00      0.00      0.00         1\n",
            "          55       0.00      0.00      0.00         0\n",
            "          56       0.00      0.00      0.00         2\n",
            "          58       0.00      0.00      0.00         6\n",
            "          60       0.00      0.00      0.00        11\n",
            "          61       0.00      0.00      0.00         0\n",
            "          62       0.00      0.00      0.00         6\n",
            "          64       0.08      0.14      0.10         7\n",
            "          65       0.00      0.00      0.00         3\n",
            "          66       0.14      0.17      0.15         6\n",
            "          68       0.00      0.00      0.00         5\n",
            "          70       0.00      0.00      0.00        11\n",
            "          72       0.17      0.10      0.12        10\n",
            "          74       0.00      0.00      0.00         8\n",
            "          75       0.00      0.00      0.00         4\n",
            "          76       0.17      0.14      0.15         7\n",
            "          78       0.00      0.00      0.00        14\n",
            "          80       0.00      0.00      0.00         4\n",
            "          82       0.00      0.00      0.00         5\n",
            "          84       0.00      0.00      0.00         2\n",
            "          85       0.00      0.00      0.00         2\n",
            "          86       0.00      0.00      0.00         4\n",
            "          88       0.00      0.00      0.00         6\n",
            "          90       0.00      0.00      0.00         3\n",
            "          92       0.00      0.00      0.00         3\n",
            "          94       0.00      0.00      0.00         1\n",
            "          95       0.00      0.00      0.00         1\n",
            "          96       0.00      0.00      0.00         0\n",
            "         106       0.00      0.00      0.00         1\n",
            "         108       0.00      0.00      0.00         2\n",
            "         110       0.00      0.00      0.00         1\n",
            "         114       0.00      0.00      0.00         1\n",
            "\n",
            "    accuracy                           0.06       154\n",
            "   macro avg       0.02      0.03      0.02       154\n",
            "weighted avg       0.05      0.06      0.05       154\n",
            "\n",
            "Accuracy: 0.06493506493506493\n"
          ]
        },
        {
          "output_type": "stream",
          "name": "stderr",
          "text": [
            "/usr/local/lib/python3.10/dist-packages/sklearn/metrics/_classification.py:1565: UndefinedMetricWarning: Precision is ill-defined and being set to 0.0 in labels with no predicted samples. Use `zero_division` parameter to control this behavior.\n",
            "  _warn_prf(average, modifier, f\"{metric.capitalize()} is\", len(result))\n",
            "/usr/local/lib/python3.10/dist-packages/sklearn/metrics/_classification.py:1565: UndefinedMetricWarning: Recall is ill-defined and being set to 0.0 in labels with no true samples. Use `zero_division` parameter to control this behavior.\n",
            "  _warn_prf(average, modifier, f\"{metric.capitalize()} is\", len(result))\n",
            "/usr/local/lib/python3.10/dist-packages/sklearn/metrics/_classification.py:1565: UndefinedMetricWarning: Precision is ill-defined and being set to 0.0 in labels with no predicted samples. Use `zero_division` parameter to control this behavior.\n",
            "  _warn_prf(average, modifier, f\"{metric.capitalize()} is\", len(result))\n",
            "/usr/local/lib/python3.10/dist-packages/sklearn/metrics/_classification.py:1565: UndefinedMetricWarning: Recall is ill-defined and being set to 0.0 in labels with no true samples. Use `zero_division` parameter to control this behavior.\n",
            "  _warn_prf(average, modifier, f\"{metric.capitalize()} is\", len(result))\n",
            "/usr/local/lib/python3.10/dist-packages/sklearn/metrics/_classification.py:1565: UndefinedMetricWarning: Precision is ill-defined and being set to 0.0 in labels with no predicted samples. Use `zero_division` parameter to control this behavior.\n",
            "  _warn_prf(average, modifier, f\"{metric.capitalize()} is\", len(result))\n",
            "/usr/local/lib/python3.10/dist-packages/sklearn/metrics/_classification.py:1565: UndefinedMetricWarning: Recall is ill-defined and being set to 0.0 in labels with no true samples. Use `zero_division` parameter to control this behavior.\n",
            "  _warn_prf(average, modifier, f\"{metric.capitalize()} is\", len(result))\n"
          ]
        }
      ]
    },
    {
      "cell_type": "code",
      "source": [
        "y_pred_reg = log_reg_model.predict(X_test_reg)\n",
        "\n",
        "plt.scatter(y_test_reg, y_pred_reg, alpha=0.6)\n",
        "plt.xlabel('Actual Blood Pressure')\n",
        "plt.ylabel('Predicted Blood Pressure')\n",
        "plt.title('Regression Predictions vs Actuals')\n",
        "plt.show()\n"
      ],
      "metadata": {
        "colab": {
          "base_uri": "https://localhost:8080/",
          "height": 472
        },
        "id": "Y_1BNSxLipJH",
        "outputId": "137d432c-a01a-48e6-fe62-1f12600b65ec"
      },
      "execution_count": null,
      "outputs": [
        {
          "output_type": "display_data",
          "data": {
            "text/plain": [
              "<Figure size 640x480 with 1 Axes>"
            ],
            "image/png": "[encoded data removed]"
          },
          "metadata": {}
        }
      ]
    },
    {
      "cell_type": "code",
      "source": [
        "# Confusion matrix for Logistic Regression\n",
        "conf_matrix_log_reg = confusion_matrix(y_test_reg, y_pred_log_reg)\n",
        "sns.heatmap(conf_matrix_log_reg, annot=True, fmt='d', cmap='Blues')\n",
        "plt.title('Logistic Regression Confusion Matrix')\n",
        "plt.show()\n",
        "\n"
      ],
      "metadata": {
        "colab": {
          "base_uri": "https://localhost:8080/",
          "height": 452
        },
        "id": "bx-5mWhjit8z",
        "outputId": "5fa13814-400e-4bc3-c902-c898249a33f4"
      },
      "execution_count": null,
      "outputs": [
        {
          "output_type": "display_data",
          "data": {
            "text/plain": [
              "<Figure size 640x480 with 2 Axes>"
            ],
            "image/png": "[encoded data removed]"
          },
          "metadata": {}
        }
      ]
    },
    {
      "cell_type": "code",
      "source": [
        "# Confusion matrix for KNN\n",
        "conf_matrix_knn = confusion_matrix(y_test_reg, y_pred_knn)\n",
        "sns.heatmap(conf_matrix_knn, annot=True, fmt='d', cmap='Greens')\n",
        "plt.title('KNN Confusion Matrix')\n",
        "plt.show()"
      ],
      "metadata": {
        "colab": {
          "base_uri": "https://localhost:8080/",
          "height": 452
        },
        "id": "7iC0mhOWjC0g",
        "outputId": "d763fd8f-4201-416a-eefd-5cad9ee4a6dd"
      },
      "execution_count": null,
      "outputs": [
        {
          "output_type": "display_data",
          "data": {
            "text/plain": [
              "<Figure size 640x480 with 2 Axes>"
            ],
            "image/png": "[encoded data removed]"
          },
          "metadata": {}
        }
      ]
    },
    {
      "cell_type": "code",
      "source": [],
      "metadata": {
        "id": "Ypb8_dLSjLzR"
      },
      "execution_count": null,
      "outputs": []
    }
  ]
}