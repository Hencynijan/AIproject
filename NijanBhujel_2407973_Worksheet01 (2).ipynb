{
  "nbformat": 4,
  "nbformat_minor": 0,
  "metadata": {
    "colab": {
      "provenance": []
    },
    "kernelspec": {
      "name": "python3",
      "display_name": "Python 3"
    },
    "language_info": {
      "name": "python"
    }
  },
  "cells": [
    {
      "cell_type": "code",
      "execution_count": null,
      "metadata": {
        "colab": {
          "base_uri": "https://localhost:8080/"
        },
        "id": "JnuxI2MPXTK-",
        "outputId": "25e4c150-0104-4f9e-b3ca-6596ede5bec1"
      },
      "outputs": [
        {
          "output_type": "stream",
          "name": "stdout",
          "text": [
            "Pure Python addition: 0.01 s per loop\n",
            "NumPy addition: 0.15 s per loop\n"
          ]
        }
      ],
      "source": [
        "import numpy as np\n",
        "import random\n",
        "from timeit import timeit\n",
        "\n",
        "# Define addition functions\n",
        "def add_python(Z1, Z2):\n",
        "    return [z1 + z2 for z1, z2 in zip(Z1, Z2)]\n",
        "\n",
        "def add_numpy(Z1, Z2):\n",
        "    return np.add(Z1, Z2)\n",
        "\n",
        "# Generate random sample data\n",
        "Z1 = random.sample(range(1000), 100)\n",
        "Z2 = random.sample(range(1000), 100)\n",
        "\n",
        "# Time the execution of each function\n",
        "python_time = timeit(\"add_python(Z1, Z2)\", globals=globals(), number=1000)\n",
        "numpy_time = timeit(\"add_numpy(Z1, Z2)\", globals=globals(), number=10000)\n",
        "\n",
        "# Print results\n",
        "print(f\"Pure Python addition: {python_time:.2f} s per loop\")\n",
        "print(f\"NumPy addition: {numpy_time:.2f} s per loop\")\n"
      ]
    },
    {
      "cell_type": "markdown",
      "source": [],
      "metadata": {
        "id": "le1E1zGFZaS9"
      }
    },
    {
      "cell_type": "code",
      "source": [
        "import numpy as np\n",
        "a = np . arange (1 , 10)\n",
        "print ( a )\n",
        "x = range (1 , 10)\n",
        "print ( x ) # x is an iterator\n",
        "print ( list ( x ) )\n",
        " # further arange examples :\n",
        "x = np . arange (10.4)\n",
        "print ( x )\n",
        "x = np . arange (0.5 , 10.4 , 0.8)\n",
        "print ( x )"
      ],
      "metadata": {
        "colab": {
          "base_uri": "https://localhost:8080/"
        },
        "id": "1XpOedJ2ds11",
        "outputId": "a36b9e5d-606f-48ca-ff9b-8d55fb9b11ea"
      },
      "execution_count": null,
      "outputs": [
        {
          "output_type": "stream",
          "name": "stdout",
          "text": [
            "[1 2 3 4 5 6 7 8 9]\n",
            "range(1, 10)\n",
            "[1, 2, 3, 4, 5, 6, 7, 8, 9]\n",
            "[ 0.  1.  2.  3.  4.  5.  6.  7.  8.  9. 10.]\n",
            "[ 0.5  1.3  2.1  2.9  3.7  4.5  5.3  6.1  6.9  7.7  8.5  9.3 10.1]\n"
          ]
        }
      ]
    },
    {
      "cell_type": "code",
      "source": [
        "import numpy as np\n",
        "arr1 = np . array ([1 , 2 , 3])\n",
        "arr2 = np . array ([4 , 5 , 6])\n",
        "print (\"Add:\", np . add ( arr1 , arr2 ) ) # Output Add: [5 7 9]\n",
        "print (\" Subtract :\", np . subtract ( arr1 , arr2 ) )\n",
        "# Output Subtract : [ -3 -3 -3]\n",
        "print (\" Divide :\", np . divide ( arr1 , arr2 ) )\n",
        "# Output Divide : [0.25 0.4 0.5 ]\n",
        "print (\" Multiply :\", np . multiply ( arr1 , arr2 ) )\n",
        "# Output Multiply : [ 4 10 18]\n",
        "print (\" Power :\", np . power ( arr1 , arr2 ) )\n",
        "# Output Power : [ 1 32 729]\n",
        "print (\"Exp:\", np . exp ( arr1 ) )\n",
        " # Output Exp: [ 2.71828183 7.3890561 20.08553692]"
      ],
      "metadata": {
        "colab": {
          "base_uri": "https://localhost:8080/"
        },
        "id": "ZSU_O8lGiwNk",
        "outputId": "ec55bd44-17cb-4365-fd14-f75b00a96817"
      },
      "execution_count": null,
      "outputs": [
        {
          "output_type": "stream",
          "name": "stdout",
          "text": [
            "Add: [5 7 9]\n",
            " Subtract : [-3 -3 -3]\n",
            " Divide : [0.25 0.4  0.5 ]\n",
            " Multiply : [ 4 10 18]\n",
            " Power : [  1  32 729]\n",
            "Exp: [ 2.71828183  7.3890561  20.08553692]\n"
          ]
        }
      ]
    },
    {
      "cell_type": "markdown",
      "source": [
        "Sample Code from Slide - 14 - Importing Numpy and Array Type."
      ],
      "metadata": {
        "id": "IvfcrVXBnVi4"
      }
    },
    {
      "cell_type": "code",
      "source": [
        "import numpy as np\n",
        "# Create and display zero, one, and n-dimensional arrays\n",
        "zero_dim_array = np.array(5)\n",
        "one_dim_array = np.array([1, 2, 3])\n",
        "n_dim_array = np.array([[1, 2], [3, 4]])\n",
        "for arr in [zero_dim_array, one_dim_array, n_dim_array]:\n",
        "    print(f\"Array:\\n{arr}\\nDimension: {arr.ndim}\\nData type: {arr.dtype}\\n\")"
      ],
      "metadata": {
        "colab": {
          "base_uri": "https://localhost:8080/"
        },
        "id": "8ma9HqwRnYKJ",
        "outputId": "ba6f3f96-4128-408c-fe15-68df8dd6eb9c"
      },
      "execution_count": null,
      "outputs": [
        {
          "output_type": "stream",
          "name": "stdout",
          "text": [
            "Array:\n",
            "5\n",
            "Dimension: 0\n",
            "Data type: int64\n",
            "\n",
            "Array:\n",
            "[1 2 3]\n",
            "Dimension: 1\n",
            "Data type: int64\n",
            "\n",
            "Array:\n",
            "[[1 2]\n",
            " [3 4]]\n",
            "Dimension: 2\n",
            "Data type: int64\n",
            "\n"
          ]
        }
      ]
    },
    {
      "cell_type": "markdown",
      "source": [
        "Sample Code from Slide - 16 - Shape of an Array."
      ],
      "metadata": {
        "id": "kE4_QnavnlhM"
      }
    },
    {
      "cell_type": "code",
      "source": [
        "import numpy as np\n",
        "# Create arrays of different dimensions\n",
        "array_0d = np.array(5)\n",
        "array_1d = np.array([1, 2, 3, 4, 5])\n",
        "array_2d = np.array([[1, 2, 3], [4, 5, 6]])\n",
        "array_3d = np.array([[[1, 2], [3, 4]], [[5, 6], [7, 8]]])\n",
        "# Print arrays with shapes\n",
        "for i, arr in enumerate([array_0d, array_1d, array_2d, array_3d]):\n",
        "    print(f\"{i}D Array:\\n{arr}\\nShape: {arr.shape}\\n\")"
      ],
      "metadata": {
        "colab": {
          "base_uri": "https://localhost:8080/"
        },
        "id": "9OOuOy5qnpxU",
        "outputId": "d22867cd-efc2-41ac-e929-0679d07d8b8c"
      },
      "execution_count": null,
      "outputs": [
        {
          "output_type": "stream",
          "name": "stdout",
          "text": [
            "0D Array:\n",
            "5\n",
            "Shape: ()\n",
            "\n",
            "1D Array:\n",
            "[1 2 3 4 5]\n",
            "Shape: (5,)\n",
            "\n",
            "2D Array:\n",
            "[[1 2 3]\n",
            " [4 5 6]]\n",
            "Shape: (2, 3)\n",
            "\n",
            "3D Array:\n",
            "[[[1 2]\n",
            "  [3 4]]\n",
            "\n",
            " [[5 6]\n",
            "  [7 8]]]\n",
            "Shape: (2, 2, 2)\n",
            "\n"
          ]
        }
      ]
    },
    {
      "cell_type": "markdown",
      "source": [],
      "metadata": {
        "id": "gCQeDufon8hE"
      }
    },
    {
      "cell_type": "markdown",
      "source": [
        "Sample Code from Slide - 17 - Reshaping an Array."
      ],
      "metadata": {
        "id": "DMRUxTp8oCtD"
      }
    },
    {
      "cell_type": "code",
      "source": [
        "import numpy as np\n",
        "array = np.array([[1, 2, 3], [4, 5, 6]]) # Shape (2, 3)\n",
        "reshaped_array = array.reshape(3, 2) # Reshape to (3, 2), keeping 6 elements\n",
        "print(\"Original Shape:\", array.shape, \"\\nReshaped Shape:\", reshaped_array.shape)"
      ],
      "metadata": {
        "colab": {
          "base_uri": "https://localhost:8080/"
        },
        "id": "NipFtDiqoEUH",
        "outputId": "bce0ea6f-081b-40d7-afdf-32e7eee98989"
      },
      "execution_count": null,
      "outputs": [
        {
          "output_type": "stream",
          "name": "stdout",
          "text": [
            "Original Shape: (2, 3) \n",
            "Reshaped Shape: (3, 2)\n"
          ]
        }
      ]
    },
    {
      "cell_type": "markdown",
      "source": [
        "Sample Code from Slide - 18 - Arrays with evenly Spaced values - arange."
      ],
      "metadata": {
        "id": "hvqGMqUyoQKm"
      }
    },
    {
      "cell_type": "code",
      "source": [
        "import numpy as np\n",
        "a = np.arange(1, 10)\n",
        "print(a)\n",
        "x = range(1, 10)\n",
        "print(x) # x is an iterator\n",
        "print(list(x))\n",
        "# further arange examples:\n",
        "x = np.arange(10.4)\n",
        "print(x)\n",
        "x = np.arange(0.5, 10.4, 0.8)\n",
        "print(x)"
      ],
      "metadata": {
        "colab": {
          "base_uri": "https://localhost:8080/"
        },
        "id": "yaInOVBeoXLK",
        "outputId": "3cee7f87-a7a5-46cb-9a64-baac90a5ae43"
      },
      "execution_count": null,
      "outputs": [
        {
          "output_type": "stream",
          "name": "stdout",
          "text": [
            "[1 2 3 4 5 6 7 8 9]\n",
            "range(1, 10)\n",
            "[1, 2, 3, 4, 5, 6, 7, 8, 9]\n",
            "[ 0.  1.  2.  3.  4.  5.  6.  7.  8.  9. 10.]\n",
            "[ 0.5  1.3  2.1  2.9  3.7  4.5  5.3  6.1  6.9  7.7  8.5  9.3 10.1]\n"
          ]
        }
      ]
    },
    {
      "cell_type": "markdown",
      "source": [
        "Sample Code from Slide - 19 - Arrays with evenly Spaced values - linspace."
      ],
      "metadata": {
        "id": "VpeuvSwFozKU"
      }
    },
    {
      "cell_type": "code",
      "source": [
        "import numpy as np\n",
        "# 50 values between 1 and 10:\n",
        "print(np.linspace(1, 10))\n",
        "# 7 values between 1 and 10:\n",
        "print(np.linspace(1, 10, 7))\n",
        "# excluding the endpoint:\n",
        "print(np.linspace(1, 10, 7, endpoint=False))"
      ],
      "metadata": {
        "colab": {
          "base_uri": "https://localhost:8080/"
        },
        "id": "ALV-Kxiho34C",
        "outputId": "e0f76cb7-b7b0-4ff5-91d5-4b9f03f04df2"
      },
      "execution_count": null,
      "outputs": [
        {
          "output_type": "stream",
          "name": "stdout",
          "text": [
            "[ 1.          1.18367347  1.36734694  1.55102041  1.73469388  1.91836735\n",
            "  2.10204082  2.28571429  2.46938776  2.65306122  2.83673469  3.02040816\n",
            "  3.20408163  3.3877551   3.57142857  3.75510204  3.93877551  4.12244898\n",
            "  4.30612245  4.48979592  4.67346939  4.85714286  5.04081633  5.2244898\n",
            "  5.40816327  5.59183673  5.7755102   5.95918367  6.14285714  6.32653061\n",
            "  6.51020408  6.69387755  6.87755102  7.06122449  7.24489796  7.42857143\n",
            "  7.6122449   7.79591837  7.97959184  8.16326531  8.34693878  8.53061224\n",
            "  8.71428571  8.89795918  9.08163265  9.26530612  9.44897959  9.63265306\n",
            "  9.81632653 10.        ]\n",
            "[ 1.   2.5  4.   5.5  7.   8.5 10. ]\n",
            "[1.         2.28571429 3.57142857 4.85714286 6.14285714 7.42857143\n",
            " 8.71428571]\n"
          ]
        }
      ]
    },
    {
      "cell_type": "markdown",
      "source": [
        "Sample Code form slide - 20 - Initializing an Array."
      ],
      "metadata": {
        "id": "qz4RvJeDpmyq"
      }
    },
    {
      "cell_type": "code",
      "source": [
        "import numpy as np\n",
        "# Create arrays of specified shapes\n",
        "ones_array = np.ones((2, 3)) # Shape: (2, 3)\n",
        "zeros_array = np.zeros((3, 2)) # Shape: (3, 2)\n",
        "empty_array = np.empty((2, 2)) # Shape: (2, 2)\n",
        "identity_matrix = np.eye(3) # Shape: (3, 3)\n",
        "print(ones_array, zeros_array, empty_array, identity_matrix, sep='\\n\\n')"
      ],
      "metadata": {
        "colab": {
          "base_uri": "https://localhost:8080/"
        },
        "id": "g1aaM9PopqX5",
        "outputId": "d681ff49-49a5-432a-a24f-6894a4d6a02e"
      },
      "execution_count": null,
      "outputs": [
        {
          "output_type": "stream",
          "name": "stdout",
          "text": [
            "[[1. 1. 1.]\n",
            " [1. 1. 1.]]\n",
            "\n",
            "[[0. 0.]\n",
            " [0. 0.]\n",
            " [0. 0.]]\n",
            "\n",
            "[[1.20862060e-313 0.00000000e+000]\n",
            " [1.39093641e-308 2.12199579e-312]]\n",
            "\n",
            "[[1. 0. 0.]\n",
            " [0. 1. 0.]\n",
            " [0. 0. 1.]]\n"
          ]
        }
      ]
    },
    {
      "cell_type": "markdown",
      "source": [],
      "metadata": {
        "id": "uYtjzXFVqDfn"
      }
    },
    {
      "cell_type": "markdown",
      "source": [
        "Sample Code form slide - 21 - Converting list to array using np.array."
      ],
      "metadata": {
        "id": "Pm_6SBLPqKFL"
      }
    },
    {
      "cell_type": "code",
      "source": [
        "import numpy as np\n",
        "array_from_list = np.array([1, 2, 3]) # [1 2 3]\n",
        "array_from_tuple = np.array((4, 5, 6)) # [4 5 6]\n",
        "array_from_nested_list = np.array([[1, 2, 3], [4, 5, 6]]) # [[1 2 3] [4 5 6]]\n",
        "print(array_from_list, array_from_tuple, array_from_nested_list, sep='\\n')"
      ],
      "metadata": {
        "colab": {
          "base_uri": "https://localhost:8080/"
        },
        "id": "W95Wn3qhqMAN",
        "outputId": "f6bd79cd-4f90-4f45-8470-9ad37609df83"
      },
      "execution_count": null,
      "outputs": [
        {
          "output_type": "stream",
          "name": "stdout",
          "text": [
            "[1 2 3]\n",
            "[4 5 6]\n",
            "[[1 2 3]\n",
            " [4 5 6]]\n"
          ]
        }
      ]
    },
    {
      "cell_type": "markdown",
      "source": [
        "Sample Code form slide - 22 - From shape of an existing array."
      ],
      "metadata": {
        "id": "i8c9TswzqVjo"
      }
    },
    {
      "cell_type": "code",
      "source": [
        "import numpy as np\n",
        "# Existing Array of Shape:(2,3)\n",
        "arr = np.array([[1, 2, 3], [4, 5, 6]])\n",
        "# Creating Array with Shape of existing array:\n",
        "zeros, ones, empty = np.zeros(arr.shape), np.ones(arr.shape), np.empty(arr.shape) # Shape: (2,3)\n",
        "print(arr, zeros, ones, empty, sep='\\n')"
      ],
      "metadata": {
        "colab": {
          "base_uri": "https://localhost:8080/"
        },
        "id": "f_KjuLDHqabq",
        "outputId": "cb43e06d-6ebf-4be4-e119-6ca6a0281d91"
      },
      "execution_count": null,
      "outputs": [
        {
          "output_type": "stream",
          "name": "stdout",
          "text": [
            "[[1 2 3]\n",
            " [4 5 6]]\n",
            "[[0. 0. 0.]\n",
            " [0. 0. 0.]]\n",
            "[[1. 1. 1.]\n",
            " [1. 1. 1.]]\n",
            "[[4.95121133e-310 0.00000000e+000 6.82106964e-310]\n",
            " [6.82108415e-310 6.82106955e-310 6.82106976e-310]]\n"
          ]
        }
      ]
    },
    {
      "cell_type": "markdown",
      "source": [
        "Sample Code form slide - 23 - Manipulatiing existing array."
      ],
      "metadata": {
        "id": "BsYO-X3gqiY2"
      }
    },
    {
      "cell_type": "code",
      "source": [
        "import numpy as np\n",
        "array = np.array([1, 2, 3])\n",
        "# Multiplies each element by 2, result: [2, 4, 6]\n",
        "new_array = array * 2\n",
        "# Creates a new array with the same elements\n",
        "copied_array = np.copy(array)\n",
        "# Slices elements from index 1 to 3, result:[2]\n",
        "sliced_array = array[1:2]"
      ],
      "metadata": {
        "id": "0AM18rRlqmxD"
      },
      "execution_count": null,
      "outputs": []
    },
    {
      "cell_type": "markdown",
      "source": [
        "Sample Code form slide - 26 - With Concatenating Operation."
      ],
      "metadata": {
        "id": "xBsXzvmeqtUH"
      }
    },
    {
      "cell_type": "code",
      "source": [
        "import numpy as np\n",
        "arr1 = np.array([[1, 2], [3, 4]]) # Shape: (2, 2)\n",
        "arr2 = np.array([[5, 6], [7, 8]]) # Shape: (2, 2)\n",
        "concat_axis0 = np.concatenate((arr1, arr2), axis=0)\n",
        "# Concatenate along axis 0 (vertical) Shape: (4, 2)\n",
        "concat_axis1 = np.concatenate((arr1, arr2), axis=1)\n",
        "# Concatenate along axis 1 (horizontal) Shape: (2, 4)\n",
        "print(concat_axis0, concat_axis1, sep='\\n')"
      ],
      "metadata": {
        "colab": {
          "base_uri": "https://localhost:8080/"
        },
        "id": "sQlq-zJFqufc",
        "outputId": "74f75ab3-a727-46b9-9e5c-5fb585d8f016"
      },
      "execution_count": null,
      "outputs": [
        {
          "output_type": "stream",
          "name": "stdout",
          "text": [
            "[[1 2]\n",
            " [3 4]\n",
            " [5 6]\n",
            " [7 8]]\n",
            "[[1 2 5 6]\n",
            " [3 4 7 8]]\n"
          ]
        }
      ]
    },
    {
      "cell_type": "markdown",
      "source": [
        "Sample Code form slide - 34 - Sample Code for Indexing and Slicing."
      ],
      "metadata": {
        "id": "J-mgjHNIrNmG"
      }
    },
    {
      "cell_type": "code",
      "source": [
        "import numpy as np\n",
        "# Arrays\n",
        "arr1d = np.array([0, 1, 2, 3, 4, 5])\n",
        "arr2d = np.array([[0, 1, 2], [3, 4, 5], [6, 7, 8]])\n",
        "arr3d = np.array([[[0, 1], [2, 3]], [[4, 5], [6, 7]], [[8, 9], [10, 11]]])\n",
        "# Slicing examples\n",
        "print(\"Basic:\", arr1d[1:4], arr2d[1:3, 0:2], arr3d[1:2, 0:2, 1:2])\n",
        "# Output Basic: arr1d:[1 2 3] arr2d:[[3 4] [6 7]] arr3d:[[[5] [7]]]\n",
        "print(\"Step:\", arr1d[1:5:2], arr2d[::2, 1::2], arr3d[::2, ::2, 1::2])\n",
        "# Output: Step: [1 3] [[1] [7]] [[[1] [9]]]"
      ],
      "metadata": {
        "colab": {
          "base_uri": "https://localhost:8080/"
        },
        "id": "z-cp9iZcrRuQ",
        "outputId": "980e37ee-7b2e-417c-d229-ec57d930f60d"
      },
      "execution_count": null,
      "outputs": [
        {
          "output_type": "stream",
          "name": "stdout",
          "text": [
            "Basic: [1 2 3] [[3 4]\n",
            " [6 7]] [[[5]\n",
            "  [7]]]\n",
            "Step: [1 3] [[1]\n",
            " [7]] [[[1]]\n",
            "\n",
            " [[9]]]\n"
          ]
        }
      ]
    },
    {
      "cell_type": "markdown",
      "source": [
        "Sample Code form slide - 37 - Intriduction to ”ufuncs”."
      ],
      "metadata": {
        "id": "q1CBDJvxsBes"
      }
    },
    {
      "cell_type": "code",
      "source": [
        "import numpy as np\n",
        "arr1 = np.array([1, 2, 3])\n",
        "arr2 = np.array([4, 5, 6])\n",
        "print(\"Add:\", np.add(arr1, arr2)) # Output Add: [5 7 9]\n",
        "print(\"Subtract:\", np.subtract(arr1, arr2))\n",
        "# Output Subtract: [-3 -3 -3]\n",
        "print(\"Divide:\", np.divide(arr1, arr2))\n",
        "# Output Divide: [0.25 0.4 0.5 ]\n",
        "print(\"Multiply:\", np.multiply(arr1, arr2))\n",
        "# Output Multiply: [ 4 10 18]\n",
        "print(\"Power:\", np.power(arr1, arr2))\n",
        "# Output Power: [ 1 32 729]\n",
        "print(\"Exp:\", np.exp(arr1))\n",
        "# Output Exp: [ 2.71828183 7.3890561 20.08553692]"
      ],
      "metadata": {
        "colab": {
          "base_uri": "https://localhost:8080/"
        },
        "id": "ZhH8H7OWsKgy",
        "outputId": "11dee58c-bf70-42e1-e37b-d3918604baba"
      },
      "execution_count": null,
      "outputs": [
        {
          "output_type": "stream",
          "name": "stdout",
          "text": [
            "Add: [5 7 9]\n",
            "Subtract: [-3 -3 -3]\n",
            "Divide: [0.25 0.4  0.5 ]\n",
            "Multiply: [ 4 10 18]\n",
            "Power: [  1  32 729]\n",
            "Exp: [ 2.71828183  7.3890561  20.08553692]\n"
          ]
        }
      ]
    },
    {
      "cell_type": "markdown",
      "source": [
        "Sample Code form slide - 44 - Using ”np.dot”."
      ],
      "metadata": {
        "id": "utueNyHUs0FE"
      }
    },
    {
      "cell_type": "code",
      "source": [
        "import numpy as np\n",
        "# Define two matrices\n",
        "A = np.array([[1, 2, 3], [4, 5, 6]])\n",
        "B = np.array([[7, 8], [9, 10], [11, 12]])\n",
        "# Matrix multiplication using np.dot\n",
        "result_dot = np.dot(A, B)\n",
        "print(\"Result with np.dot:\\n\", result_dot) # Output shape: (2, 2)"
      ],
      "metadata": {
        "colab": {
          "base_uri": "https://localhost:8080/"
        },
        "id": "IB3BXPtbtCcR",
        "outputId": "0d44883c-3d90-4394-ea81-d10dd15c8dfb"
      },
      "execution_count": null,
      "outputs": [
        {
          "output_type": "stream",
          "name": "stdout",
          "text": [
            "Result with np.dot:\n",
            " [[ 58  64]\n",
            " [139 154]]\n"
          ]
        }
      ]
    },
    {
      "cell_type": "markdown",
      "source": [
        "Sample Code form slide - 45 - Using ”np.matmul”."
      ],
      "metadata": {
        "id": "OrIK53G5tX8a"
      }
    },
    {
      "cell_type": "code",
      "source": [
        "import numpy as np\n",
        "# Define two matrices\n",
        "A = np.array([[1, 2, 3], [4, 5, 6]])\n",
        "B = np.array([[7, 8], [9, 10], [11, 12]])\n",
        "# Matrix multiplication using @ operator\n",
        "result_at = A @ B\n",
        "print(\"Result with @ operator:\\n\", result_at) # Output shape: (2, 2)\n",
        "# Matrix multiplication using np.matmul\n",
        "result_matmul = np.matmul(A, B)\n",
        "print(\"Result with np.matmul:\\n\", result_matmul) # Output shape: (2, 2)"
      ],
      "metadata": {
        "colab": {
          "base_uri": "https://localhost:8080/"
        },
        "id": "SNvG8Xp_tckt",
        "outputId": "80f1b639-b8b1-4bbc-93f0-aeb87a8064b4"
      },
      "execution_count": null,
      "outputs": [
        {
          "output_type": "stream",
          "name": "stdout",
          "text": [
            "Result with @ operator:\n",
            " [[ 58  64]\n",
            " [139 154]]\n",
            "Result with np.matmul:\n",
            " [[ 58  64]\n",
            " [139 154]]\n"
          ]
        }
      ]
    },
    {
      "cell_type": "markdown",
      "source": [
        "Sample Code form slide - 48 - Common linear algebra operation with np.linalg."
      ],
      "metadata": {
        "id": "l5NlTikotyZu"
      }
    },
    {
      "cell_type": "code",
      "source": [
        "import numpy as np\n",
        "A = np.array([[1, 2], [3, 4]])\n",
        "B = np.array([5, 6])\n",
        "print(\"Inverse:\\n\", np.linalg.inv(A))\n",
        "# Output: Inverse: [[-2. 1. ], [ 1.5 -0.5]]\n",
        "print(\"Determinant:\", np.linalg.det(A))\n",
        "# Output: Determinant: -2.0\n",
        "print(\"Frobenius Norm:\", np.linalg.norm(A, 'fro'))\n",
        "# Output: Frobenius Norm: 5.4772\n",
        "print(\"2-Norm (Euclidean):\", np.linalg.norm(A))\n",
        "# Outptut: 2-Norm(Euclidean): 5.4772\n",
        "print(\"Solution x:\", np.linalg.solve(A, B))\n",
        "#Output: Solution x: [-4. 4.5]"
      ],
      "metadata": {
        "colab": {
          "base_uri": "https://localhost:8080/"
        },
        "id": "ifjAwEvat0Id",
        "outputId": "bfa9e5a3-908f-448d-c637-a83d4c9c5c11"
      },
      "execution_count": null,
      "outputs": [
        {
          "output_type": "stream",
          "name": "stdout",
          "text": [
            "Inverse:\n",
            " [[-2.   1. ]\n",
            " [ 1.5 -0.5]]\n",
            "Determinant: -2.0000000000000004\n",
            "Frobenius Norm: 5.477225575051661\n",
            "2-Norm (Euclidean): 5.477225575051661\n",
            "Solution x: [-4.   4.5]\n"
          ]
        }
      ]
    },
    {
      "cell_type": "markdown",
      "source": [
        "4 TO - DO - Task\n",
        "Please complete all the problem listed below.\n",
        "4.1 Warming Up Exercise: Basic Vector and Matrix Operation with Numpy.\n",
        "Problem - 1: Array Creation:\n",
        "Complete the following Tasks:\n",
        "1. Initialize an empty array with size 2X2.\n",
        "2. Initialize an all one array with size 4X2.\n",
        "3. Return a new array of given shape and type, filled with fill value.{Hint: np.full}\n",
        "4. Return a new array of zeros with same shape and type as a given array.{Hint: np.zeros like}\n",
        "5. Return a new array of ones with same shape and type as a given array.{Hint: np.ones like}\n",
        "6. For an existing list new_list = [1,2,3,4] convert to an numpy array.{Hint: np.array()}"
      ],
      "metadata": {
        "id": "AU2wOTuwuhUX"
      }
    },
    {
      "cell_type": "code",
      "source": [
        "import numpy as np\n",
        "\n",
        "array = np.zeros((2, 2))\n",
        "print(array)\n"
      ],
      "metadata": {
        "id": "2OA5i3dFujL9",
        "colab": {
          "base_uri": "https://localhost:8080/"
        },
        "outputId": "6bd99b66-c921-4e0e-9966-d0b6df716726"
      },
      "execution_count": null,
      "outputs": [
        {
          "output_type": "stream",
          "name": "stdout",
          "text": [
            "[[0. 0.]\n",
            " [0. 0.]]\n"
          ]
        }
      ]
    },
    {
      "cell_type": "markdown",
      "source": [
        "2.Initialize an all one array with size 4X2."
      ],
      "metadata": {
        "id": "5WovKYJY2wHU"
      }
    },
    {
      "cell_type": "code",
      "source": [
        "import numpy as np\n",
        "\n",
        "array = np.ones((4, 2))\n",
        "print(array)\n"
      ],
      "metadata": {
        "id": "PKgC4vra24Gw"
      },
      "execution_count": null,
      "outputs": []
    },
    {
      "cell_type": "markdown",
      "source": [
        "Return a new array of given shape and type, filled with fill value.{Hint: np.full}"
      ],
      "metadata": {
        "id": "Vl_c2-OS3K7-"
      }
    },
    {
      "cell_type": "code",
      "source": [
        "fill_value_array = np.full((3, 3), 7)\n",
        "print(\"\\nArray filled with value 7:\")\n",
        "print(fill_value_array)\n"
      ],
      "metadata": {
        "id": "kZ6mFibM3MGk"
      },
      "execution_count": null,
      "outputs": []
    },
    {
      "cell_type": "markdown",
      "source": [
        " 4.Return a new array of zeros with same shape and type as a given array.{Hint: np.zeros like}"
      ],
      "metadata": {
        "id": "vQIXBrvj3Tm7"
      }
    },
    {
      "cell_type": "code",
      "source": [
        "reference_array = np.array([[1, 2], [3, 4]])\n",
        "zeros_like_array = np.zeros_like(reference_array)\n",
        "print(\"\\nZeros array with the same shape as reference array:\")\n",
        "print(zeros_like_array)\n"
      ],
      "metadata": {
        "id": "BENYL-rS3Y8n"
      },
      "execution_count": null,
      "outputs": []
    },
    {
      "cell_type": "markdown",
      "source": [
        "Return a new array of ones with same shape and type as a given array.{Hint: np.ones like}"
      ],
      "metadata": {
        "id": "4Nn-Yl8V3h3J"
      }
    },
    {
      "cell_type": "code",
      "source": [
        "ones_like_array = np.ones_like(reference_array)\n",
        "print(\"\\nOnes array with the same shape as reference array:\")\n",
        "print(ones_like_array)\n"
      ],
      "metadata": {
        "id": "p5hIlbOk3jiO"
      },
      "execution_count": null,
      "outputs": []
    },
    {
      "cell_type": "markdown",
      "source": [
        "6.For an existing list new_list = [1,2,3,4] convert to an numpy array.{Hint: np.array()}"
      ],
      "metadata": {
        "id": "msSqeCRI337r"
      }
    },
    {
      "cell_type": "code",
      "source": [
        "new_list = [1, 2, 3, 4]\n",
        "numpy_array = np.array(new_list)\n",
        "print(\"\\nConverted NumPy array:\")\n",
        "print(numpy_array)\n"
      ],
      "metadata": {
        "colab": {
          "base_uri": "https://localhost:8080/"
        },
        "id": "ixBLVVlb37Cy",
        "outputId": "64421f24-94c6-42ee-b7cb-edb8ac414369"
      },
      "execution_count": null,
      "outputs": [
        {
          "output_type": "stream",
          "name": "stdout",
          "text": [
            "\n",
            "Converted NumPy array:\n",
            "[1 2 3 4]\n"
          ]
        }
      ]
    },
    {
      "cell_type": "markdown",
      "source": [],
      "metadata": {
        "id": "Dkmctq-NO9YX"
      }
    },
    {
      "cell_type": "code",
      "source": [
        "import numpy as np\n",
        "\n",
        "# 1. Create an array with values ranging from 10 to 49\n",
        "array_range = np.arange(10, 50)\n",
        "print(\"Array with values ranging from 10 to 49:\\n\", array_range)\n",
        "\n",
        "# 2. Create a 3x3 matrix with values ranging from 0 to 8\n",
        "matrix_3x3 = np.arange(9).reshape(3, 3)\n",
        "print(\"\\n3x3 Matrix with values ranging from 0 to 8:\\n\", matrix_3x3)\n",
        "\n",
        "# 3. Create a 3x3 identity matrix\n",
        "identity_matrix = np.eye(3)\n",
        "print(\"\\n3x3 Identity Matrix:\\n\", identity_matrix)\n",
        "\n",
        "# 4. Create a random array of size 30 and find the mean of the array\n",
        "random_array = np.random.random(30)\n",
        "mean_value = random_array.mean()\n",
        "print(\"\\nRandom Array of size 30:\\n\", random_array)\n",
        "print(\"Mean of the random array:\", mean_value)\n",
        "\n",
        "# 5. Create a 10x10 array with random values and find the minimum and maximum values\n",
        "random_10x10 = np.random.random((10, 10))\n",
        "min_value = random_10x10.min()\n",
        "max_value = random_10x10.max()\n",
        "print(\"\\n10x10 Array with Random Values:\\n\", random_10x10)\n",
        "print(\"Minimum Value:\", min_value)\n",
        "print(\"Maximum Value:\", max_value)\n",
        "\n",
        "# 6. Create a zero array of size 10 and replace the 5th element with 1\n",
        "zero_array = np.zeros(10)\n",
        "zero_array[4] = 1  # Indexing starts from 0, so 5th element is at index 4\n",
        "print(\"\\nZero Array with 5th Element Replaced by 1:\\n\", zero_array)\n",
        "\n",
        "# 7. Reverse an array arr = [1, 2, 0, 0, 4, 0]\n",
        "arr = [1, 2, 0, 0, 4, 0]\n",
        "reversed_array = np.array(arr)[::-1]\n",
        "print(\"\\nReversed Array:\\n\", reversed_array)\n",
        "\n",
        "# 8. Create a 2D array with 1 on border and 0 inside\n",
        "border_array = np.ones((5, 5))\n",
        "border_array[1:-1, 1:-1] = 0\n",
        "print(\"\\n2D Array with 1 on Border and 0 Inside:\\n\", border_array)\n",
        "\n",
        "# 9. Create an 8x8 matrix and fill it with a checkerboard pattern\n",
        "checkerboard = np.zeros((8, 8), dtype=int)\n",
        "checkerboard[1::2, ::2] = 1  # Fill alternate positions in odd rows\n",
        "checkerboard[::2, 1::2] = 1  # Fill alternate positions in even rows\n",
        "print(\"\\n8x8 Checkerboard Pattern:\\n\", checkerboard)"
      ],
      "metadata": {
        "id": "YDCZoKeKPZuV"
      },
      "execution_count": null,
      "outputs": []
    },
    {
      "cell_type": "code",
      "source": [
        "import numpy as np\n",
        "\n",
        "# 1. Create an array with values ranging from 10 to 49\n",
        "array_range = np.arange(10, 50)\n",
        "print(\"Array with values ranging from 10 to 49:\\n\", array_range)\n",
        "\n",
        "# 2. Create a 3x3 matrix with values ranging from 0 to 8\n",
        "matrix_3x3 = np.arange(9).reshape(3, 3)\n",
        "print(\"\\n3x3 Matrix with values ranging from 0 to 8:\\n\", matrix_3x3)\n",
        "\n",
        "# 3. Create a 3x3 identity matrix\n",
        "identity_matrix = np.eye(3)\n",
        "print(\"\\n3x3 Identity Matrix:\\n\", identity_matrix)\n",
        "\n",
        "# 4. Create a random array of size 30 and find the mean of the array\n",
        "random_array = np.random.random(30)\n",
        "mean_value = random_array.mean()\n",
        "print(\"\\nRandom Array of size 30:\\n\", random_array)\n",
        "print(\"Mean of the random array:\", mean_value)\n",
        "\n",
        "# 5. Create a 10x10 array with random values and find the minimum and maximum values\n",
        "random_10x10 = np.random.random((10, 10))\n",
        "min_value = random_10x10.min()\n",
        "max_value = random_10x10.max()\n",
        "print(\"\\n10x10 Array with Random Values:\\n\", random_10x10)\n",
        "print(\"Minimum Value:\", min_value)\n",
        "print(\"Maximum Value:\", max_value)\n",
        "\n",
        "# 6. Create a zero array of size 10 and replace the 5th element with 1\n",
        "zero_array = np.zeros(10)\n",
        "zero_array[4] = 1  # Indexing starts from 0, so 5th element is at index 4\n",
        "print(\"\\nZero Array with 5th Element Replaced by 1:\\n\", zero_array)\n",
        "\n",
        "# 7. Reverse an array arr = [1, 2, 0, 0, 4, 0]\n",
        "arr = [1, 2, 0, 0, 4, 0]\n",
        "reversed_array = np.array(arr)[::-1]\n",
        "print(\"\\nReversed Array:\\n\", reversed_array)\n",
        "\n",
        "# 8. Create a 2D array with 1 on border and 0 inside\n",
        "border_array = np.ones((5, 5))\n",
        "border_array[1:-1, 1:-1] = 0\n",
        "print(\"\\n2D Array with 1 on Border and 0 Inside:\\n\", border_array)\n",
        "\n",
        "# 9. Create an 8x8 matrix and fill it with a checkerboard pattern\n",
        "checkerboard = np.zeros((8, 8), dtype=int)\n",
        "checkerboard[1::2, ::2] = 1  # Fill alternate positions in odd rows\n",
        "checkerboard[::2, 1::2] = 1  # Fill alternate positions in even rows\n",
        "print(\"\\n8x8 Checkerboard Pattern:\\n\", checkerboard)"
      ],
      "metadata": {
        "id": "1Q367nuDPood"
      },
      "execution_count": null,
      "outputs": []
    },
    {
      "cell_type": "code",
      "source": [
        "import numpy as np\n",
        "\n",
        "# Given arrays\n",
        "x = np.array([[1, 2], [3, 5]])\n",
        "y = np.array([[5, 6], [7, 8]])\n",
        "v = np.array([9, 10])\n",
        "w = np.array([11, 12])\n",
        "\n",
        "# 1. Add the two arrays (x and y)\n",
        "add_result = x + y\n",
        "print(\"Addition of x and y:\\n\", add_result)\n",
        "\n",
        "# 2. Subtract the two arrays (x and y)\n",
        "subtract_result = x - y\n",
        "print(\"\\nSubtraction of x and y:\\n\", subtract_result)\n",
        "\n",
        "# 3. Multiply the array x with an integer (e.g., 3)\n",
        "scalar_multiplication = x * 3\n",
        "print(\"\\nMultiplication of x with 3:\\n\", scalar_multiplication)\n",
        "\n",
        "# 4. Find the square of each element in the array x\n",
        "square_result = x ** 2\n",
        "print(\"\\nSquare of each element in x:\\n\", square_result)\n",
        "\n",
        "# 5. Find the dot product\n",
        "dot_vw = np.dot(v, w)  # Dot product between v and w\n",
        "dot_xv = np.dot(x, v)  # Dot product between x and v\n",
        "dot_xy = np.dot(x, y)  # Dot product between x and y\n",
        "print(\"\\nDot Product of v and w:\", dot_vw)\n",
        "print(\"Dot Product of x and v:\\n\", dot_xv)\n",
        "print(\"Dot Product of x and y:\\n\", dot_xy)\n",
        "\n",
        "# 6. Concatenate x and y along rows; Concatenate v and w along columns\n",
        "concatenate_xy = np.concatenate((x, y), axis=0)  # Along rows\n",
        "concatenate_vw = np.vstack((v, w))  # Along columns\n",
        "print(\"\\nConcatenation of x and y along rows:\\n\", concatenate_xy)\n",
        "print(\"Concatenation of v and w along columns:\\n\", concatenate_vw)\n",
        "\n",
        "# 7. Concatenate x and v\n",
        "try:\n",
        "    concatenate_xv = np.concatenate((x, v), axis=0)\n",
        "    print(\"\\nConcatenation of x and v:\\n\", concatenate_xv)\n",
        "except ValueError as e:\n",
        "    print(\"\\nError while concatenating x and v:\", e)"
      ],
      "metadata": {
        "id": "q7Hgp19APqRX"
      },
      "execution_count": null,
      "outputs": []
    },
    {
      "cell_type": "code",
      "source": [
        "import numpy as np\n",
        "\n",
        "# Given matrices\n",
        "A = np.array([[3, 4], [7, 8]])\n",
        "B = np.array([[5, 3], [2, 1]])\n",
        "\n",
        "# 1. Prove A.A−1 = I\n",
        "A_inv = np.linalg.inv(A)  # Calculate the inverse of A\n",
        "identity_matrix = np.dot(A, A_inv)  # A.A^-1\n",
        "identity_matrix_rounded = np.round(identity_matrix)  # Round to avoid floating-point inaccuracies\n",
        "print(\"A * A^-1 = Identity Matrix:\\n\", identity_matrix_rounded)\n",
        "\n",
        "# 2. Prove AB = BA\n",
        "AB = np.dot(A, B)\n",
        "BA = np.dot(B, A)\n",
        "is_commutative = np.array_equal(AB, BA)\n",
        "print(\"\\nAB:\\n\", AB)\n",
        "print(\"\\nBA:\\n\", BA)\n",
        "print(\"\\nIs AB equal to BA? \", is_commutative)\n",
        "\n",
        "# 3. Prove (AB)T = BTAT\n",
        "AB_T = np.transpose(AB)\n",
        "BT_AT = np.dot(np.transpose(B), np.transpose(A))\n",
        "is_transpose_property = np.array_equal(AB_T, BT_AT)\n",
        "print(\"\\n(AB)^T:\\n\", AB_T)\n",
        "print(\"\\nB^T * A^T:\\n\", BT_AT)\n",
        "print(\"\\nIs (AB)^T equal to B^T * A^T? \", is_transpose_property)\n",
        "\n",
        "# Solve the system of linear equations\n",
        "# Represent the equations in matrix form: AX = B\n",
        "coeff_matrix = np.array([[2, -3, 1], [1, -1, 2], [3, 1, -1]])  # Coefficients of x, y, z\n",
        "rhs_matrix = np.array([-1, -3, 9])  # Right-hand side constants\n",
        "\n",
        "# Solve using `np.linalg.inv`\n",
        "A_inv_3x3 = np.linalg.inv(coeff_matrix)  # Inverse of coefficient matrix\n",
        "solution = np.dot(A_inv_3x3, rhs_matrix)  # Solve for X = A^-1 * B\n",
        "print(\"\\nSolution to the system of equations using inverse method:\\n\", solution)\n",
        "\n",
        "# Solve using `np.linalg.solve` (more numerically stable)\n",
        "solution_linalg = np.linalg.solve(coeff_matrix, rhs_matrix)\n",
        "print(\"\\nSolution to the system of equations using `np.linalg.solve`:\\n\", solution_linalg)\n"
      ],
      "metadata": {
        "id": "BZvs4j4aQZbE"
      },
      "execution_count": null,
      "outputs": []
    }
  ]
}