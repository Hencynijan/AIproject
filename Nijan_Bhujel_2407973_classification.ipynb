{
  "nbformat": 4,
  "nbformat_minor": 0,
  "metadata": {
    "colab": {
      "provenance": []
    },
    "kernelspec": {
      "name": "python3",
      "display_name": "Python 3"
    },
    "language_info": {
      "name": "python"
    }
  },
  "cells": [
    {
      "cell_type": "code",
      "execution_count": 1,
      "metadata": {
        "id": "d-x12rqPJBXT"
      },
      "outputs": [],
      "source": [
        "# Import necessary libraries\n",
        "import numpy as np\n",
        "import pandas as pd\n",
        "import matplotlib.pyplot as plt\n",
        "import seaborn as sns\n",
        "from scipy.stats import mode\n",
        "from sklearn.preprocessing import StandardScaler\n",
        "from sklearn.model_selection import train_test_split\n",
        "from sklearn.metrics import accuracy_score, classification_report, confusion_matrix\n",
        "from sklearn.neighbors import KNeighborsClassifier"
      ]
    },
    {
      "cell_type": "code",
      "source": [
        "#scaling initialization\n",
        "scaler = StandardScaler()"
      ],
      "metadata": {
        "id": "CyVcghyJJTiq"
      },
      "execution_count": 2,
      "outputs": []
    },
    {
      "cell_type": "code",
      "source": [
        "#reading data from the drive\n",
        "df = pd.read_csv(\"/content/drive/MyDrive/Datasets-20241201T040656Z-001/Datasets/survey lung cancer .csv\")\n",
        "df.head()"
      ],
      "metadata": {
        "colab": {
          "base_uri": "https://localhost:8080/",
          "height": 243
        },
        "id": "DpfJPAGgJV0a",
        "outputId": "82eec09c-48d4-43d8-8875-3a126a547ad5"
      },
      "execution_count": 3,
      "outputs": [
        {
          "output_type": "execute_result",
          "data": {
            "text/plain": [
              "  GENDER  AGE  SMOKING  YELLOW_FINGERS  ANXIETY  PEER_PRESSURE  \\\n",
              "0      M   69        1               2        2              1   \n",
              "1      M   74        2               1        1              1   \n",
              "2      F   59        1               1        1              2   \n",
              "3      M   63        2               2        2              1   \n",
              "4      F   63        1               2        1              1   \n",
              "\n",
              "   CHRONIC DISEASE  FATIGUE   ALLERGY   WHEEZING  ALCOHOL CONSUMING  COUGHING  \\\n",
              "0                1         2         1         2                  2         2   \n",
              "1                2         2         2         1                  1         1   \n",
              "2                1         2         1         2                  1         2   \n",
              "3                1         1         1         1                  2         1   \n",
              "4                1         1         1         2                  1         2   \n",
              "\n",
              "   SHORTNESS OF BREATH  SWALLOWING DIFFICULTY  CHEST PAIN LUNG_CANCER  \n",
              "0                    2                      2           2         YES  \n",
              "1                    2                      2           2         YES  \n",
              "2                    2                      1           2          NO  \n",
              "3                    1                      2           2          NO  \n",
              "4                    2                      1           1          NO  "
            ],
            "text/html": [
              "\n",
              "  <div id=\"df-f8f6062e-d05e-49c5-a5e2-00e4ee5ee119\" class=\"colab-df-container\">\n",
              "    <div>\n",
              "<style scoped>\n",
              "    .dataframe tbody tr th:only-of-type {\n",
              "        vertical-align: middle;\n",
              "    }\n",
              "\n",
              "    .dataframe tbody tr th {\n",
              "        vertical-align: top;\n",
              "    }\n",
              "\n",
              "    .dataframe thead th {\n",
              "        text-align: right;\n",
              "    }\n",
              "</style>\n",
              "<table border=\"1\" class=\"dataframe\">\n",
              "  <thead>\n",
              "    <tr style=\"text-align: right;\">\n",
              "      <th></th>\n",
              "      <th>GENDER</th>\n",
              "      <th>AGE</th>\n",
              "      <th>SMOKING</th>\n",
              "      <th>YELLOW_FINGERS</th>\n",
              "      <th>ANXIETY</th>\n",
              "      <th>PEER_PRESSURE</th>\n",
              "      <th>CHRONIC DISEASE</th>\n",
              "      <th>FATIGUE</th>\n",
              "      <th>ALLERGY</th>\n",
              "      <th>WHEEZING</th>\n",
              "      <th>ALCOHOL CONSUMING</th>\n",
              "      <th>COUGHING</th>\n",
              "      <th>SHORTNESS OF BREATH</th>\n",
              "      <th>SWALLOWING DIFFICULTY</th>\n",
              "      <th>CHEST PAIN</th>\n",
              "      <th>LUNG_CANCER</th>\n",
              "    </tr>\n",
              "  </thead>\n",
              "  <tbody>\n",
              "    <tr>\n",
              "      <th>0</th>\n",
              "      <td>M</td>\n",
              "      <td>69</td>\n",
              "      <td>1</td>\n",
              "      <td>2</td>\n",
              "      <td>2</td>\n",
              "      <td>1</td>\n",
              "      <td>1</td>\n",
              "      <td>2</td>\n",
              "      <td>1</td>\n",
              "      <td>2</td>\n",
              "      <td>2</td>\n",
              "      <td>2</td>\n",
              "      <td>2</td>\n",
              "      <td>2</td>\n",
              "      <td>2</td>\n",
              "      <td>YES</td>\n",
              "    </tr>\n",
              "    <tr>\n",
              "      <th>1</th>\n",
              "      <td>M</td>\n",
              "      <td>74</td>\n",
              "      <td>2</td>\n",
              "      <td>1</td>\n",
              "      <td>1</td>\n",
              "      <td>1</td>\n",
              "      <td>2</td>\n",
              "      <td>2</td>\n",
              "      <td>2</td>\n",
              "      <td>1</td>\n",
              "      <td>1</td>\n",
              "      <td>1</td>\n",
              "      <td>2</td>\n",
              "      <td>2</td>\n",
              "      <td>2</td>\n",
              "      <td>YES</td>\n",
              "    </tr>\n",
              "    <tr>\n",
              "      <th>2</th>\n",
              "      <td>F</td>\n",
              "      <td>59</td>\n",
              "      <td>1</td>\n",
              "      <td>1</td>\n",
              "      <td>1</td>\n",
              "      <td>2</td>\n",
              "      <td>1</td>\n",
              "      <td>2</td>\n",
              "      <td>1</td>\n",
              "      <td>2</td>\n",
              "      <td>1</td>\n",
              "      <td>2</td>\n",
              "      <td>2</td>\n",
              "      <td>1</td>\n",
              "      <td>2</td>\n",
              "      <td>NO</td>\n",
              "    </tr>\n",
              "    <tr>\n",
              "      <th>3</th>\n",
              "      <td>M</td>\n",
              "      <td>63</td>\n",
              "      <td>2</td>\n",
              "      <td>2</td>\n",
              "      <td>2</td>\n",
              "      <td>1</td>\n",
              "      <td>1</td>\n",
              "      <td>1</td>\n",
              "      <td>1</td>\n",
              "      <td>1</td>\n",
              "      <td>2</td>\n",
              "      <td>1</td>\n",
              "      <td>1</td>\n",
              "      <td>2</td>\n",
              "      <td>2</td>\n",
              "      <td>NO</td>\n",
              "    </tr>\n",
              "    <tr>\n",
              "      <th>4</th>\n",
              "      <td>F</td>\n",
              "      <td>63</td>\n",
              "      <td>1</td>\n",
              "      <td>2</td>\n",
              "      <td>1</td>\n",
              "      <td>1</td>\n",
              "      <td>1</td>\n",
              "      <td>1</td>\n",
              "      <td>1</td>\n",
              "      <td>2</td>\n",
              "      <td>1</td>\n",
              "      <td>2</td>\n",
              "      <td>2</td>\n",
              "      <td>1</td>\n",
              "      <td>1</td>\n",
              "      <td>NO</td>\n",
              "    </tr>\n",
              "  </tbody>\n",
              "</table>\n",
              "</div>\n",
              "    <div class=\"colab-df-buttons\">\n",
              "\n",
              "  <div class=\"colab-df-container\">\n",
              "    <button class=\"colab-df-convert\" onclick=\"convertToInteractive('df-f8f6062e-d05e-49c5-a5e2-00e4ee5ee119')\"\n",
              "            title=\"Convert this dataframe to an interactive table.\"\n",
              "            style=\"display:none;\">\n",
              "\n",
              "  <svg xmlns=\"http://www.w3.org/2000/svg\" height=\"24px\" viewBox=\"0 -960 960 960\">\n",
              "    <path d=\"M120-120v-720h720v720H120Zm60-500h600v-160H180v160Zm220 220h160v-160H400v160Zm0 220h160v-160H400v160ZM180-400h160v-160H180v160Zm440 0h160v-160H620v160ZM180-180h160v-160H180v160Zm440 0h160v-160H620v160Z\"/>\n",
              "  </svg>\n",
              "    </button>\n",
              "\n",
              "  <style>\n",
              "    .colab-df-container {\n",
              "      display:flex;\n",
              "      gap: 12px;\n",
              "    }\n",
              "\n",
              "    .colab-df-convert {\n",
              "      background-color: #E8F0FE;\n",
              "      border: none;\n",
              "      border-radius: 50%;\n",
              "      cursor: pointer;\n",
              "      display: none;\n",
              "      fill: #1967D2;\n",
              "      height: 32px;\n",
              "      padding: 0 0 0 0;\n",
              "      width: 32px;\n",
              "    }\n",
              "\n",
              "    .colab-df-convert:hover {\n",
              "      background-color: #E2EBFA;\n",
              "      box-shadow: 0px 1px 2px rgba(60, 64, 67, 0.3), 0px 1px 3px 1px rgba(60, 64, 67, 0.15);\n",
              "      fill: #174EA6;\n",
              "    }\n",
              "\n",
              "    .colab-df-buttons div {\n",
              "      margin-bottom: 4px;\n",
              "    }\n",
              "\n",
              "    [theme=dark] .colab-df-convert {\n",
              "      background-color: #3B4455;\n",
              "      fill: #D2E3FC;\n",
              "    }\n",
              "\n",
              "    [theme=dark] .colab-df-convert:hover {\n",
              "      background-color: #434B5C;\n",
              "      box-shadow: 0px 1px 3px 1px rgba(0, 0, 0, 0.15);\n",
              "      filter: drop-shadow(0px 1px 2px rgba(0, 0, 0, 0.3));\n",
              "      fill: #FFFFFF;\n",
              "    }\n",
              "  </style>\n",
              "\n",
              "    <script>\n",
              "      const buttonEl =\n",
              "        document.querySelector('#df-f8f6062e-d05e-49c5-a5e2-00e4ee5ee119 button.colab-df-convert');\n",
              "      buttonEl.style.display =\n",
              "        google.colab.kernel.accessAllowed ? 'block' : 'none';\n",
              "\n",
              "      async function convertToInteractive(key) {\n",
              "        const element = document.querySelector('#df-f8f6062e-d05e-49c5-a5e2-00e4ee5ee119');\n",
              "        const dataTable =\n",
              "          await google.colab.kernel.invokeFunction('convertToInteractive',\n",
              "                                                    [key], {});\n",
              "        if (!dataTable) return;\n",
              "\n",
              "        const docLinkHtml = 'Like what you see? Visit the ' +\n",
              "          '<a target=\"_blank\" href=https://colab.research.google.com/notebooks/data_table.ipynb>data table notebook</a>'\n",
              "          + ' to learn more about interactive tables.';\n",
              "        element.innerHTML = '';\n",
              "        dataTable['output_type'] = 'display_data';\n",
              "        await google.colab.output.renderOutput(dataTable, element);\n",
              "        const docLink = document.createElement('div');\n",
              "        docLink.innerHTML = docLinkHtml;\n",
              "        element.appendChild(docLink);\n",
              "      }\n",
              "    </script>\n",
              "  </div>\n",
              "\n",
              "\n",
              "<div id=\"df-ef5dba83-006d-4c3c-b631-a7fb9a79dd97\">\n",
              "  <button class=\"colab-df-quickchart\" onclick=\"quickchart('df-ef5dba83-006d-4c3c-b631-a7fb9a79dd97')\"\n",
              "            title=\"Suggest charts\"\n",
              "            style=\"display:none;\">\n",
              "\n",
              "<svg xmlns=\"http://www.w3.org/2000/svg\" height=\"24px\"viewBox=\"0 0 24 24\"\n",
              "     width=\"24px\">\n",
              "    <g>\n",
              "        <path d=\"M19 3H5c-1.1 0-2 .9-2 2v14c0 1.1.9 2 2 2h14c1.1 0 2-.9 2-2V5c0-1.1-.9-2-2-2zM9 17H7v-7h2v7zm4 0h-2V7h2v10zm4 0h-2v-4h2v4z\"/>\n",
              "    </g>\n",
              "</svg>\n",
              "  </button>\n",
              "\n",
              "<style>\n",
              "  .colab-df-quickchart {\n",
              "      --bg-color: #E8F0FE;\n",
              "      --fill-color: #1967D2;\n",
              "      --hover-bg-color: #E2EBFA;\n",
              "      --hover-fill-color: #174EA6;\n",
              "      --disabled-fill-color: #AAA;\n",
              "      --disabled-bg-color: #DDD;\n",
              "  }\n",
              "\n",
              "  [theme=dark] .colab-df-quickchart {\n",
              "      --bg-color: #3B4455;\n",
              "      --fill-color: #D2E3FC;\n",
              "      --hover-bg-color: #434B5C;\n",
              "      --hover-fill-color: #FFFFFF;\n",
              "      --disabled-bg-color: #3B4455;\n",
              "      --disabled-fill-color: #666;\n",
              "  }\n",
              "\n",
              "  .colab-df-quickchart {\n",
              "    background-color: var(--bg-color);\n",
              "    border: none;\n",
              "    border-radius: 50%;\n",
              "    cursor: pointer;\n",
              "    display: none;\n",
              "    fill: var(--fill-color);\n",
              "    height: 32px;\n",
              "    padding: 0;\n",
              "    width: 32px;\n",
              "  }\n",
              "\n",
              "  .colab-df-quickchart:hover {\n",
              "    background-color: var(--hover-bg-color);\n",
              "    box-shadow: 0 1px 2px rgba(60, 64, 67, 0.3), 0 1px 3px 1px rgba(60, 64, 67, 0.15);\n",
              "    fill: var(--button-hover-fill-color);\n",
              "  }\n",
              "\n",
              "  .colab-df-quickchart-complete:disabled,\n",
              "  .colab-df-quickchart-complete:disabled:hover {\n",
              "    background-color: var(--disabled-bg-color);\n",
              "    fill: var(--disabled-fill-color);\n",
              "    box-shadow: none;\n",
              "  }\n",
              "\n",
              "  .colab-df-spinner {\n",
              "    border: 2px solid var(--fill-color);\n",
              "    border-color: transparent;\n",
              "    border-bottom-color: var(--fill-color);\n",
              "    animation:\n",
              "      spin 1s steps(1) infinite;\n",
              "  }\n",
              "\n",
              "  @keyframes spin {\n",
              "    0% {\n",
              "      border-color: transparent;\n",
              "      border-bottom-color: var(--fill-color);\n",
              "      border-left-color: var(--fill-color);\n",
              "    }\n",
              "    20% {\n",
              "      border-color: transparent;\n",
              "      border-left-color: var(--fill-color);\n",
              "      border-top-color: var(--fill-color);\n",
              "    }\n",
              "    30% {\n",
              "      border-color: transparent;\n",
              "      border-left-color: var(--fill-color);\n",
              "      border-top-color: var(--fill-color);\n",
              "      border-right-color: var(--fill-color);\n",
              "    }\n",
              "    40% {\n",
              "      border-color: transparent;\n",
              "      border-right-color: var(--fill-color);\n",
              "      border-top-color: var(--fill-color);\n",
              "    }\n",
              "    60% {\n",
              "      border-color: transparent;\n",
              "      border-right-color: var(--fill-color);\n",
              "    }\n",
              "    80% {\n",
              "      border-color: transparent;\n",
              "      border-right-color: var(--fill-color);\n",
              "      border-bottom-color: var(--fill-color);\n",
              "    }\n",
              "    90% {\n",
              "      border-color: transparent;\n",
              "      border-bottom-color: var(--fill-color);\n",
              "    }\n",
              "  }\n",
              "</style>\n",
              "\n",
              "  <script>\n",
              "    async function quickchart(key) {\n",
              "      const quickchartButtonEl =\n",
              "        document.querySelector('#' + key + ' button');\n",
              "      quickchartButtonEl.disabled = true;  // To prevent multiple clicks.\n",
              "      quickchartButtonEl.classList.add('colab-df-spinner');\n",
              "      try {\n",
              "        const charts = await google.colab.kernel.invokeFunction(\n",
              "            'suggestCharts', [key], {});\n",
              "      } catch (error) {\n",
              "        console.error('Error during call to suggestCharts:', error);\n",
              "      }\n",
              "      quickchartButtonEl.classList.remove('colab-df-spinner');\n",
              "      quickchartButtonEl.classList.add('colab-df-quickchart-complete');\n",
              "    }\n",
              "    (() => {\n",
              "      let quickchartButtonEl =\n",
              "        document.querySelector('#df-ef5dba83-006d-4c3c-b631-a7fb9a79dd97 button');\n",
              "      quickchartButtonEl.style.display =\n",
              "        google.colab.kernel.accessAllowed ? 'block' : 'none';\n",
              "    })();\n",
              "  </script>\n",
              "</div>\n",
              "\n",
              "    </div>\n",
              "  </div>\n"
            ],
            "application/vnd.google.colaboratory.intrinsic+json": {
              "type": "dataframe",
              "variable_name": "df",
              "summary": "{\n  \"name\": \"df\",\n  \"rows\": 309,\n  \"fields\": [\n    {\n      \"column\": \"GENDER\",\n      \"properties\": {\n        \"dtype\": \"category\",\n        \"num_unique_values\": 2,\n        \"samples\": [\n          \"F\",\n          \"M\"\n        ],\n        \"semantic_type\": \"\",\n        \"description\": \"\"\n      }\n    },\n    {\n      \"column\": \"AGE\",\n      \"properties\": {\n        \"dtype\": \"number\",\n        \"std\": 8,\n        \"min\": 21,\n        \"max\": 87,\n        \"num_unique_values\": 39,\n        \"samples\": [\n          81,\n          39\n        ],\n        \"semantic_type\": \"\",\n        \"description\": \"\"\n      }\n    },\n    {\n      \"column\": \"SMOKING\",\n      \"properties\": {\n        \"dtype\": \"number\",\n        \"std\": 0,\n        \"min\": 1,\n        \"max\": 2,\n        \"num_unique_values\": 2,\n        \"samples\": [\n          2,\n          1\n        ],\n        \"semantic_type\": \"\",\n        \"description\": \"\"\n      }\n    },\n    {\n      \"column\": \"YELLOW_FINGERS\",\n      \"properties\": {\n        \"dtype\": \"number\",\n        \"std\": 0,\n        \"min\": 1,\n        \"max\": 2,\n        \"num_unique_values\": 2,\n        \"samples\": [\n          1,\n          2\n        ],\n        \"semantic_type\": \"\",\n        \"description\": \"\"\n      }\n    },\n    {\n      \"column\": \"ANXIETY\",\n      \"properties\": {\n        \"dtype\": \"number\",\n        \"std\": 0,\n        \"min\": 1,\n        \"max\": 2,\n        \"num_unique_values\": 2,\n        \"samples\": [\n          1,\n          2\n        ],\n        \"semantic_type\": \"\",\n        \"description\": \"\"\n      }\n    },\n    {\n      \"column\": \"PEER_PRESSURE\",\n      \"properties\": {\n        \"dtype\": \"number\",\n        \"std\": 0,\n        \"min\": 1,\n        \"max\": 2,\n        \"num_unique_values\": 2,\n        \"samples\": [\n          2,\n          1\n        ],\n        \"semantic_type\": \"\",\n        \"description\": \"\"\n      }\n    },\n    {\n      \"column\": \"CHRONIC DISEASE\",\n      \"properties\": {\n        \"dtype\": \"number\",\n        \"std\": 0,\n        \"min\": 1,\n        \"max\": 2,\n        \"num_unique_values\": 2,\n        \"samples\": [\n          2,\n          1\n        ],\n        \"semantic_type\": \"\",\n        \"description\": \"\"\n      }\n    },\n    {\n      \"column\": \"FATIGUE \",\n      \"properties\": {\n        \"dtype\": \"number\",\n        \"std\": 0,\n        \"min\": 1,\n        \"max\": 2,\n        \"num_unique_values\": 2,\n        \"samples\": [\n          1,\n          2\n        ],\n        \"semantic_type\": \"\",\n        \"description\": \"\"\n      }\n    },\n    {\n      \"column\": \"ALLERGY \",\n      \"properties\": {\n        \"dtype\": \"number\",\n        \"std\": 0,\n        \"min\": 1,\n        \"max\": 2,\n        \"num_unique_values\": 2,\n        \"samples\": [\n          2,\n          1\n        ],\n        \"semantic_type\": \"\",\n        \"description\": \"\"\n      }\n    },\n    {\n      \"column\": \"WHEEZING\",\n      \"properties\": {\n        \"dtype\": \"number\",\n        \"std\": 0,\n        \"min\": 1,\n        \"max\": 2,\n        \"num_unique_values\": 2,\n        \"samples\": [\n          1,\n          2\n        ],\n        \"semantic_type\": \"\",\n        \"description\": \"\"\n      }\n    },\n    {\n      \"column\": \"ALCOHOL CONSUMING\",\n      \"properties\": {\n        \"dtype\": \"number\",\n        \"std\": 0,\n        \"min\": 1,\n        \"max\": 2,\n        \"num_unique_values\": 2,\n        \"samples\": [\n          1,\n          2\n        ],\n        \"semantic_type\": \"\",\n        \"description\": \"\"\n      }\n    },\n    {\n      \"column\": \"COUGHING\",\n      \"properties\": {\n        \"dtype\": \"number\",\n        \"std\": 0,\n        \"min\": 1,\n        \"max\": 2,\n        \"num_unique_values\": 2,\n        \"samples\": [\n          1,\n          2\n        ],\n        \"semantic_type\": \"\",\n        \"description\": \"\"\n      }\n    },\n    {\n      \"column\": \"SHORTNESS OF BREATH\",\n      \"properties\": {\n        \"dtype\": \"number\",\n        \"std\": 0,\n        \"min\": 1,\n        \"max\": 2,\n        \"num_unique_values\": 2,\n        \"samples\": [\n          1,\n          2\n        ],\n        \"semantic_type\": \"\",\n        \"description\": \"\"\n      }\n    },\n    {\n      \"column\": \"SWALLOWING DIFFICULTY\",\n      \"properties\": {\n        \"dtype\": \"number\",\n        \"std\": 0,\n        \"min\": 1,\n        \"max\": 2,\n        \"num_unique_values\": 2,\n        \"samples\": [\n          1,\n          2\n        ],\n        \"semantic_type\": \"\",\n        \"description\": \"\"\n      }\n    },\n    {\n      \"column\": \"CHEST PAIN\",\n      \"properties\": {\n        \"dtype\": \"number\",\n        \"std\": 0,\n        \"min\": 1,\n        \"max\": 2,\n        \"num_unique_values\": 2,\n        \"samples\": [\n          1,\n          2\n        ],\n        \"semantic_type\": \"\",\n        \"description\": \"\"\n      }\n    },\n    {\n      \"column\": \"LUNG_CANCER\",\n      \"properties\": {\n        \"dtype\": \"category\",\n        \"num_unique_values\": 2,\n        \"samples\": [\n          \"NO\",\n          \"YES\"\n        ],\n        \"semantic_type\": \"\",\n        \"description\": \"\"\n      }\n    }\n  ]\n}"
            }
          },
          "metadata": {},
          "execution_count": 3
        }
      ]
    },
    {
      "cell_type": "code",
      "source": [
        "df[\"GENDER\"] = df[\"GENDER\"].replace({\"M\": 1, \"F\": 0})"
      ],
      "metadata": {
        "colab": {
          "base_uri": "https://localhost:8080/"
        },
        "id": "NiwWPx7tJtOM",
        "outputId": "26f0c57d-10f3-4524-c82e-611512c967d0"
      },
      "execution_count": 4,
      "outputs": [
        {
          "output_type": "stream",
          "name": "stderr",
          "text": [
            "<ipython-input-4-3da86514f291>:1: FutureWarning: Downcasting behavior in `replace` is deprecated and will be removed in a future version. To retain the old behavior, explicitly call `result.infer_objects(copy=False)`. To opt-in to the future behavior, set `pd.set_option('future.no_silent_downcasting', True)`\n",
            "  df[\"GENDER\"] = df[\"GENDER\"].replace({\"M\": 1, \"F\": 0})\n"
          ]
        }
      ]
    },
    {
      "cell_type": "code",
      "source": [
        "df[\"LUNG_CANCER\"] = df[\"LUNG_CANCER\"].replace({\"YES\": 1, \"NO\": 0})"
      ],
      "metadata": {
        "colab": {
          "base_uri": "https://localhost:8080/"
        },
        "id": "w7x0EZcnJwV2",
        "outputId": "a82d1a20-c4bc-4d65-b7e5-bd06f8b5b35a"
      },
      "execution_count": 5,
      "outputs": [
        {
          "output_type": "stream",
          "name": "stderr",
          "text": [
            "<ipython-input-5-8863c7bdc6de>:1: FutureWarning: Downcasting behavior in `replace` is deprecated and will be removed in a future version. To retain the old behavior, explicitly call `result.infer_objects(copy=False)`. To opt-in to the future behavior, set `pd.set_option('future.no_silent_downcasting', True)`\n",
            "  df[\"LUNG_CANCER\"] = df[\"LUNG_CANCER\"].replace({\"YES\": 1, \"NO\": 0})\n"
          ]
        }
      ]
    },
    {
      "cell_type": "code",
      "source": [
        "target = 'LUNG_CANCER'\n",
        "corr_values = df.corr(numeric_only=True)[target].drop(target)\n",
        "corr_df = corr_values.to_frame().sort_values(by=target, ascending=False)\n",
        "\n",
        "plt.figure(figsize=(5, 6))\n",
        "sns.heatmap(corr_df, annot=True, cmap='magma', fmt=\".2f\", linewidths=0.5, cbar=True)\n",
        "\n",
        "plt.title(f'Correlation of {target} with Other Features')\n",
        "plt.show()"
      ],
      "metadata": {
        "colab": {
          "base_uri": "https://localhost:8080/",
          "height": 545
        },
        "id": "kbODO7uHJzAA",
        "outputId": "37ba8ae8-34ec-46c6-a7eb-b0c5df8c4a53"
      },
      "execution_count": 6,
      "outputs": [
        {
          "output_type": "display_data",
          "data": {
            "text/plain": [
              "<Figure size 500x600 with 2 Axes>"
            ],
            "image/png": "[encoded data removed]"
          },
          "metadata": {}
        }
      ]
    },
    {
      "cell_type": "code",
      "source": [
        "to_drop = [\"SMOKING\",\"SHORTNESS OF BREATH\", \"GENDER\", \"AGE\"]\n",
        "df.drop(to_drop, axis=1, inplace=True)"
      ],
      "metadata": {
        "id": "q1UAypGYJ1ve"
      },
      "execution_count": 7,
      "outputs": []
    },
    {
      "cell_type": "code",
      "source": [
        "#Y has Life expectancy while has all other nessary features excluding Life Expectancy\n",
        "X = df.drop(\"LUNG_CANCER\", axis=1)\n",
        "X.values.reshape(-1, 1)\n",
        "Y = df['LUNG_CANCER']"
      ],
      "metadata": {
        "id": "Uqe-YJdoJ5jh"
      },
      "execution_count": 8,
      "outputs": []
    },
    {
      "cell_type": "code",
      "source": [
        "#splitting the data into traning and testing set\n",
        "X_train, X_test, Y_train, Y_test = train_test_split(X, Y, test_size = 1/3, random_state = 42)"
      ],
      "metadata": {
        "id": "CPct3-qvJ7Xz"
      },
      "execution_count": 9,
      "outputs": []
    },
    {
      "cell_type": "code",
      "source": [
        "X_train = scaler.fit_transform(X_train)\n",
        "X_test = scaler.transform(X_test)"
      ],
      "metadata": {
        "id": "kZc562PUJ97O"
      },
      "execution_count": 10,
      "outputs": []
    },
    {
      "cell_type": "code",
      "source": [
        "X_train = scaler.fit_transform(X_train)\n",
        "X_test = scaler.transform(X_test)"
      ],
      "metadata": {
        "id": "P7B1EdKzKAOR"
      },
      "execution_count": 11,
      "outputs": []
    },
    {
      "cell_type": "markdown",
      "source": [
        "KNN Classifier"
      ],
      "metadata": {
        "id": "cmX5kP_CKGjH"
      }
    },
    {
      "cell_type": "code",
      "source": [
        "def calc_distance(p1, p2):\n",
        "    return np.sqrt(np.sum((p1 - p2) ** 2))"
      ],
      "metadata": {
        "id": "kjlDcBvdKLGl"
      },
      "execution_count": 12,
      "outputs": []
    },
    {
      "cell_type": "code",
      "source": [
        "def get_nearest_neighbors(train_data, train_labels, test_sample, k):\n",
        "    dists = [calc_distance(test_sample, sample) for sample in train_data]\n",
        "    sorted_idx = np.argsort(dists)\n",
        "    return np.array(train_labels)[sorted_idx[:k]].flatten()"
      ],
      "metadata": {
        "id": "8oGf_RuSKNf0"
      },
      "execution_count": 13,
      "outputs": []
    },
    {
      "cell_type": "code",
      "source": [
        "def knn_classify(train_data, train_labels, test_data, k):\n",
        "    predictions = np.zeros(test_data.shape[0], dtype=int)\n",
        "    for i, sample in enumerate(test_data):\n",
        "        neighbors = get_nearest_neighbors(train_data, train_labels, sample, k)\n",
        "        mode_result = mode(neighbors, keepdims=True)\n",
        "        predictions[i] = mode_result.mode[0] if mode_result.mode.size > 0 else neighbors[0]\n",
        "    return predictions"
      ],
      "metadata": {
        "id": "44qAoH8PKQJy"
      },
      "execution_count": 14,
      "outputs": []
    },
    {
      "cell_type": "code",
      "source": [
        "K = 2"
      ],
      "metadata": {
        "id": "KJL4bgn0KSMQ"
      },
      "execution_count": 15,
      "outputs": []
    },
    {
      "cell_type": "code",
      "source": [
        "Y_pred = knn_classify(X_train, Y_train, X_test, K)"
      ],
      "metadata": {
        "id": "1GYs0nbIKUqV"
      },
      "execution_count": 16,
      "outputs": []
    },
    {
      "cell_type": "code",
      "source": [
        "# Classification Evaluation Metrics\n",
        "accuracy = accuracy_score(Y_test, Y_pred)\n",
        "report = classification_report(Y_test, Y_pred)\n",
        "\n",
        "print(\"Accuracy:\", accuracy)\n",
        "print(\"Classification Report:\\n\", report)"
      ],
      "metadata": {
        "colab": {
          "base_uri": "https://localhost:8080/"
        },
        "id": "kqbYEVRhKWbc",
        "outputId": "fc3cc4e1-3208-433e-b6f3-6e347812bf4e"
      },
      "execution_count": 17,
      "outputs": [
        {
          "output_type": "stream",
          "name": "stdout",
          "text": [
            "Accuracy: 0.912621359223301\n",
            "Classification Report:\n",
            "               precision    recall  f1-score   support\n",
            "\n",
            "           0       0.44      1.00      0.61         7\n",
            "           1       1.00      0.91      0.95        96\n",
            "\n",
            "    accuracy                           0.91       103\n",
            "   macro avg       0.72      0.95      0.78       103\n",
            "weighted avg       0.96      0.91      0.93       103\n",
            "\n"
          ]
        }
      ]
    },
    {
      "cell_type": "code",
      "source": [
        "from sklearn.metrics import confusion_matrix\n",
        "conf_matrix = confusion_matrix(Y_test, Y_pred)\n",
        "print(\"Confusion Matrix:\\n\", conf_matrix)"
      ],
      "metadata": {
        "colab": {
          "base_uri": "https://localhost:8080/"
        },
        "id": "EzrYytgwKYo6",
        "outputId": "ed6924aa-4428-4d65-d760-d23651f6d92d"
      },
      "execution_count": 18,
      "outputs": [
        {
          "output_type": "stream",
          "name": "stdout",
          "text": [
            "Confusion Matrix:\n",
            " [[ 7  0]\n",
            " [ 9 87]]\n"
          ]
        }
      ]
    },
    {
      "cell_type": "code",
      "source": [
        "report = classification_report(Y_test, Y_pred)\n",
        "print(\"\\nClassification Report:\\n\", report)"
      ],
      "metadata": {
        "colab": {
          "base_uri": "https://localhost:8080/"
        },
        "id": "8hP3xPxtKbVc",
        "outputId": "2d5b12a6-40c2-4d2a-afa0-116231f3ea3e"
      },
      "execution_count": 19,
      "outputs": [
        {
          "output_type": "stream",
          "name": "stdout",
          "text": [
            "\n",
            "Classification Report:\n",
            "               precision    recall  f1-score   support\n",
            "\n",
            "           0       0.44      1.00      0.61         7\n",
            "           1       1.00      0.91      0.95        96\n",
            "\n",
            "    accuracy                           0.91       103\n",
            "   macro avg       0.72      0.95      0.78       103\n",
            "weighted avg       0.96      0.91      0.93       103\n",
            "\n"
          ]
        }
      ]
    },
    {
      "cell_type": "code",
      "source": [
        "# Plot Confusion Matrix as a Heatmap\n",
        "plt.figure(figsize=(5, 4))\n",
        "sns.heatmap(conf_matrix, annot=True, fmt=\"d\", cmap=\"Blues\", xticklabels=[\"No Cancer\", \"Cancer\"], yticklabels=[\"No Cancer\", \"Cancer\"])\n",
        "plt.xlabel(\"Predicted Label\")\n",
        "plt.ylabel(\"True Label\")\n",
        "plt.title(\"Confusion Matrix\")\n",
        "plt.show()"
      ],
      "metadata": {
        "colab": {
          "base_uri": "https://localhost:8080/",
          "height": 410
        },
        "id": "wp-WrsDhKdnk",
        "outputId": "7673584b-8c1b-4980-d0d0-2ff74cc8068e"
      },
      "execution_count": 20,
      "outputs": [
        {
          "output_type": "display_data",
          "data": {
            "text/plain": [
              "<Figure size 500x400 with 2 Axes>"
            ],
            "image/png": "[encoded data removed]"
          },
          "metadata": {}
        }
      ]
    },
    {
      "cell_type": "code",
      "source": [
        "# Define range of K values to test\n",
        "k_values = range(1, 21)\n",
        "best_k = None"
      ],
      "metadata": {
        "id": "AUL7QMZAKf_d"
      },
      "execution_count": 21,
      "outputs": []
    },
    {
      "cell_type": "code",
      "source": [
        "for k in k_values:\n",
        "    # Initialize and train the model\n",
        "    knn = KNeighborsClassifier(n_neighbors=k)\n",
        "    knn.fit(X_train, Y_train)\n",
        "\n",
        "    # Make predictions\n",
        "    Y_pred = knn.predict(X_test)\n",
        "\n",
        "    accuracy = accuracy_score(Y_test, Y_pred)\n",
        "    print(f\"Accuracy for K={k}: {accuracy}\")\n",
        "\n",
        "    if best_k is None or accuracy > best_accuracy:\n",
        "        best_k = k\n",
        "        best_accuracy = accuracy"
      ],
      "metadata": {
        "colab": {
          "base_uri": "https://localhost:8080/"
        },
        "id": "BURhxkppKi-r",
        "outputId": "ea5fbeaa-469d-45bc-fa8e-3b7a1b0e07fa"
      },
      "execution_count": 22,
      "outputs": [
        {
          "output_type": "stream",
          "name": "stdout",
          "text": [
            "Accuracy for K=1: 0.941747572815534\n",
            "Accuracy for K=2: 0.912621359223301\n",
            "Accuracy for K=3: 0.9514563106796117\n",
            "Accuracy for K=4: 0.8932038834951457\n",
            "Accuracy for K=5: 0.941747572815534\n",
            "Accuracy for K=6: 0.941747572815534\n",
            "Accuracy for K=7: 0.970873786407767\n",
            "Accuracy for K=8: 0.970873786407767\n",
            "Accuracy for K=9: 0.970873786407767\n",
            "Accuracy for K=10: 0.970873786407767\n",
            "Accuracy for K=11: 0.9611650485436893\n",
            "Accuracy for K=12: 0.9514563106796117\n",
            "Accuracy for K=13: 0.9514563106796117\n",
            "Accuracy for K=14: 0.9514563106796117\n",
            "Accuracy for K=15: 0.9514563106796117\n",
            "Accuracy for K=16: 0.9514563106796117\n",
            "Accuracy for K=17: 0.9514563106796117\n",
            "Accuracy for K=18: 0.941747572815534\n",
            "Accuracy for K=19: 0.9514563106796117\n",
            "Accuracy for K=20: 0.9514563106796117\n"
          ]
        }
      ]
    },
    {
      "cell_type": "code",
      "source": [
        "# Print best K value\n",
        "print(\"\\nBest Hyperparameter:\")\n",
        "print(f\"Optimal K: {best_k}, With an accuracy of: {best_accuracy:.4f}\")"
      ],
      "metadata": {
        "colab": {
          "base_uri": "https://localhost:8080/"
        },
        "id": "-r37aEECKk-E",
        "outputId": "8778728e-f2d4-4f22-c27a-2a75a0d3fb54"
      },
      "execution_count": 23,
      "outputs": [
        {
          "output_type": "stream",
          "name": "stdout",
          "text": [
            "\n",
            "Best Hyperparameter:\n",
            "Optimal K: 7, With an accuracy of: 0.9709\n"
          ]
        }
      ]
    },
    {
      "cell_type": "code",
      "source": [
        "# Final model with best hyperparameters\n",
        "Y_pred_best = knn_classify(X_train, Y_train, X_test, best_k)"
      ],
      "metadata": {
        "id": "Vle1yZWbKphO"
      },
      "execution_count": 24,
      "outputs": []
    },
    {
      "cell_type": "code",
      "source": [
        "# Classification Evaluation Metrics\n",
        "accuracy = accuracy_score(Y_test, Y_pred_best)\n",
        "print(\"Accuracy:\", accuracy)"
      ],
      "metadata": {
        "colab": {
          "base_uri": "https://localhost:8080/"
        },
        "id": "Rd3y8UA3Ksat",
        "outputId": "2bf0cb06-da87-4775-f4d7-da862db2a198"
      },
      "execution_count": 26,
      "outputs": [
        {
          "output_type": "stream",
          "name": "stdout",
          "text": [
            "Accuracy: 0.970873786407767\n"
          ]
        }
      ]
    },
    {
      "cell_type": "code",
      "source": [
        "from sklearn.metrics import confusion_matrix\n",
        "conf_matrix = confusion_matrix(Y_test, Y_pred_best)\n",
        "print(\"Confusion Matrix:\\n\", conf_matrix)"
      ],
      "metadata": {
        "colab": {
          "base_uri": "https://localhost:8080/"
        },
        "id": "Rm_qz2QaKuyC",
        "outputId": "7b89e1ec-1285-4bea-d3c3-6e1baa242a23"
      },
      "execution_count": 27,
      "outputs": [
        {
          "output_type": "stream",
          "name": "stdout",
          "text": [
            "Confusion Matrix:\n",
            " [[ 6  1]\n",
            " [ 2 94]]\n"
          ]
        }
      ]
    },
    {
      "cell_type": "code",
      "source": [
        "report = classification_report(Y_test, Y_pred_best)\n",
        "print(\"\\nClassification Report:\\n\", report)"
      ],
      "metadata": {
        "colab": {
          "base_uri": "https://localhost:8080/"
        },
        "id": "6_fJuMg9K6FN",
        "outputId": "440bac23-dd65-4cb1-a680-393ce45d4eff"
      },
      "execution_count": 28,
      "outputs": [
        {
          "output_type": "stream",
          "name": "stdout",
          "text": [
            "\n",
            "Classification Report:\n",
            "               precision    recall  f1-score   support\n",
            "\n",
            "           0       0.75      0.86      0.80         7\n",
            "           1       0.99      0.98      0.98        96\n",
            "\n",
            "    accuracy                           0.97       103\n",
            "   macro avg       0.87      0.92      0.89       103\n",
            "weighted avg       0.97      0.97      0.97       103\n",
            "\n"
          ]
        }
      ]
    },
    {
      "cell_type": "code",
      "source": [
        "# Plot Confusion Matrix as a Heatmap\n",
        "plt.figure(figsize=(5, 4))\n",
        "sns.heatmap(conf_matrix, annot=True, fmt=\"d\", cmap=\"Blues\", xticklabels=[\"No Cancer\", \"Cancer\"], yticklabels=[\"No Cancer\", \"Cancer\"])\n",
        "plt.xlabel(\"Predicted Label\")\n",
        "plt.ylabel(\"True Label\")\n",
        "plt.title(\"Confusion Matrix\")\n",
        "plt.show()"
      ],
      "metadata": {
        "colab": {
          "base_uri": "https://localhost:8080/",
          "height": 410
        },
        "id": "XGWGIsYsK8VK",
        "outputId": "c36c641a-d207-44e4-eb07-f5be205399cc"
      },
      "execution_count": 29,
      "outputs": [
        {
          "output_type": "display_data",
          "data": {
            "text/plain": [
              "<Figure size 500x400 with 2 Axes>"
            ],
            "image/png": "[encoded data removed]"
          },
          "metadata": {}
        }
      ]
    },
    {
      "cell_type": "markdown",
      "source": [
        "Sigmoid Classification"
      ],
      "metadata": {
        "id": "7EA4nF-_LCpN"
      }
    },
    {
      "cell_type": "code",
      "source": [
        "def activation_function(z):\n",
        "    return 1 / (1 + np.exp(-z))"
      ],
      "metadata": {
        "id": "cv0ZqZ3eLHkz"
      },
      "execution_count": 30,
      "outputs": []
    },
    {
      "cell_type": "code",
      "source": [
        "def loss_function(features, labels, weights, bias):\n",
        "    num_samples = len(labels)\n",
        "    z = np.dot(features, weights) + bias\n",
        "    predictions = activation_function(z)\n",
        "    predictions = np.clip(predictions, 1e-10, 1 - 1e-10)  # Avoid log(0)\n",
        "    return -np.mean(labels * np.log(predictions) + (1 - labels) * np.log(1 - predictions))"
      ],
      "metadata": {
        "id": "i1ghTMlVLJti"
      },
      "execution_count": 31,
      "outputs": []
    },
    {
      "cell_type": "code",
      "source": [
        "def compute_gradients(features, labels, weights, bias):\n",
        "    num_samples = len(labels)\n",
        "    z = np.dot(features, weights) + bias\n",
        "    predictions = activation_function(z)\n",
        "    gradient_weights = np.dot(features.T, (predictions - labels)) / num_samples\n",
        "    gradient_bias = np.mean(predictions - labels)\n",
        "    return gradient_weights, gradient_bias"
      ],
      "metadata": {
        "id": "fYpcMym_LL1l"
      },
      "execution_count": 32,
      "outputs": []
    },
    {
      "cell_type": "code",
      "source": [
        "def optimize_weights(features, labels, learning_rate=0.01, iterations=1000):\n",
        "    weights = np.zeros(features.shape[1])\n",
        "    bias = 0.0\n",
        "    cost_progress = []\n",
        "\n",
        "    for i in range(iterations):\n",
        "        gradient_weights, gradient_bias = compute_gradients(features, labels, weights, bias)\n",
        "        weights -= learning_rate * gradient_weights\n",
        "        bias -= learning_rate * gradient_bias\n",
        "\n",
        "        cost = loss_function(features, labels, weights, bias)\n",
        "        cost_progress.append(cost)\n",
        "\n",
        "    return weights, bias, cost_progress"
      ],
      "metadata": {
        "id": "6aZwr0UjLOZ6"
      },
      "execution_count": 33,
      "outputs": []
    },
    {
      "cell_type": "code",
      "source": [
        "def make_predictions(features, weights, bias):\n",
        "    predictions = activation_function(np.dot(features, weights) + bias)\n",
        "    return [1 if p >= 0.5 else 0 for p in predictions]"
      ],
      "metadata": {
        "id": "EGs9AqrjLQ7e"
      },
      "execution_count": 34,
      "outputs": []
    },
    {
      "cell_type": "code",
      "source": [
        "weights, bias, cost_history = optimize_weights(X_train, Y_train, learning_rate=0.01, iterations=1000)"
      ],
      "metadata": {
        "id": "BB4hidGOLTja"
      },
      "execution_count": 35,
      "outputs": []
    },
    {
      "cell_type": "code",
      "source": [
        "Y_pred = make_predictions(X_test, weights, bias)"
      ],
      "metadata": {
        "id": "sQ4d8oWhLV6d"
      },
      "execution_count": 36,
      "outputs": []
    },
    {
      "cell_type": "code",
      "source": [
        "accuracy = accuracy_score(Y_test, Y_pred)"
      ],
      "metadata": {
        "id": "AYEm8vBgLX7q"
      },
      "execution_count": 37,
      "outputs": []
    },
    {
      "cell_type": "code",
      "source": [
        "print(\"Accuracy:\", accuracy)\n",
        "print(\"Classification Report:\\n\", classification_report(Y_test, Y_pred))"
      ],
      "metadata": {
        "colab": {
          "base_uri": "https://localhost:8080/"
        },
        "id": "-zsCcbrmLZ9r",
        "outputId": "b392732a-3efe-4a8e-acaf-d1fb2eee6429"
      },
      "execution_count": 38,
      "outputs": [
        {
          "output_type": "stream",
          "name": "stdout",
          "text": [
            "Accuracy: 0.9514563106796117\n",
            "Classification Report:\n",
            "               precision    recall  f1-score   support\n",
            "\n",
            "           0       0.62      0.71      0.67         7\n",
            "           1       0.98      0.97      0.97        96\n",
            "\n",
            "    accuracy                           0.95       103\n",
            "   macro avg       0.80      0.84      0.82       103\n",
            "weighted avg       0.95      0.95      0.95       103\n",
            "\n"
          ]
        }
      ]
    },
    {
      "cell_type": "code",
      "source": [
        "alpha_values = [0.001, 0.01,0.2,0.3, 0.1, 0.5]  # Learning rates\n",
        "iteration_values = [1000, 2000, 3000, 4000, 5000, 6000]  # Number of iterations"
      ],
      "metadata": {
        "id": "MSY3FNf-LcD9"
      },
      "execution_count": 39,
      "outputs": []
    },
    {
      "cell_type": "code",
      "source": [
        "best_alpha = None\n",
        "best_iterations = None\n"
      ],
      "metadata": {
        "id": "xhTWeP5KLgGV"
      },
      "execution_count": 40,
      "outputs": []
    },
    {
      "cell_type": "code",
      "source": [
        "for alpha in alpha_values:\n",
        "    for iterations in iteration_values:\n",
        "        W, b, cost_history = optimize_weights(X_train, Y_train, alpha, iterations)\n",
        "        # Make predictions\n",
        "        Y_pred = make_predictions(X_test, W, b)\n",
        "        accuracy = accuracy_score(Y_test, Y_pred)\n",
        "\n",
        "        print(f\"Alpha: {alpha}, Iterations: {iterations}, Accuracy: {accuracy}\")\n",
        "\n",
        "        if best_alpha is None or accuracy > best_accuracy:\n",
        "            best_alpha = alpha\n",
        "            best_iterations = iterations\n",
        "            best_accuracy = accuracy"
      ],
      "metadata": {
        "colab": {
          "base_uri": "https://localhost:8080/"
        },
        "id": "khXV3eQALigM",
        "outputId": "4867b048-2df5-4d45-cb9c-b2c25a822246"
      },
      "execution_count": 41,
      "outputs": [
        {
          "output_type": "stream",
          "name": "stdout",
          "text": [
            "Alpha: 0.001, Iterations: 1000, Accuracy: 0.9514563106796117\n",
            "Alpha: 0.001, Iterations: 2000, Accuracy: 0.9514563106796117\n",
            "Alpha: 0.001, Iterations: 3000, Accuracy: 0.9514563106796117\n",
            "Alpha: 0.001, Iterations: 4000, Accuracy: 0.9514563106796117\n",
            "Alpha: 0.001, Iterations: 5000, Accuracy: 0.9514563106796117\n",
            "Alpha: 0.001, Iterations: 6000, Accuracy: 0.9514563106796117\n",
            "Alpha: 0.01, Iterations: 1000, Accuracy: 0.9514563106796117\n",
            "Alpha: 0.01, Iterations: 2000, Accuracy: 0.9514563106796117\n",
            "Alpha: 0.01, Iterations: 3000, Accuracy: 0.9514563106796117\n",
            "Alpha: 0.01, Iterations: 4000, Accuracy: 0.9514563106796117\n",
            "Alpha: 0.01, Iterations: 5000, Accuracy: 0.9514563106796117\n",
            "Alpha: 0.01, Iterations: 6000, Accuracy: 0.9611650485436893\n",
            "Alpha: 0.2, Iterations: 1000, Accuracy: 0.9514563106796117\n",
            "Alpha: 0.2, Iterations: 2000, Accuracy: 0.9514563106796117\n",
            "Alpha: 0.2, Iterations: 3000, Accuracy: 0.9514563106796117\n",
            "Alpha: 0.2, Iterations: 4000, Accuracy: 0.9514563106796117\n",
            "Alpha: 0.2, Iterations: 5000, Accuracy: 0.9514563106796117\n",
            "Alpha: 0.2, Iterations: 6000, Accuracy: 0.9514563106796117\n",
            "Alpha: 0.3, Iterations: 1000, Accuracy: 0.9514563106796117\n",
            "Alpha: 0.3, Iterations: 2000, Accuracy: 0.9514563106796117\n",
            "Alpha: 0.3, Iterations: 3000, Accuracy: 0.9514563106796117\n",
            "Alpha: 0.3, Iterations: 4000, Accuracy: 0.9514563106796117\n",
            "Alpha: 0.3, Iterations: 5000, Accuracy: 0.9514563106796117\n",
            "Alpha: 0.3, Iterations: 6000, Accuracy: 0.9514563106796117\n",
            "Alpha: 0.1, Iterations: 1000, Accuracy: 0.9514563106796117\n",
            "Alpha: 0.1, Iterations: 2000, Accuracy: 0.9514563106796117\n",
            "Alpha: 0.1, Iterations: 3000, Accuracy: 0.9514563106796117\n",
            "Alpha: 0.1, Iterations: 4000, Accuracy: 0.9514563106796117\n",
            "Alpha: 0.1, Iterations: 5000, Accuracy: 0.9514563106796117\n",
            "Alpha: 0.1, Iterations: 6000, Accuracy: 0.9514563106796117\n",
            "Alpha: 0.5, Iterations: 1000, Accuracy: 0.9514563106796117\n",
            "Alpha: 0.5, Iterations: 2000, Accuracy: 0.9514563106796117\n",
            "Alpha: 0.5, Iterations: 3000, Accuracy: 0.9514563106796117\n",
            "Alpha: 0.5, Iterations: 4000, Accuracy: 0.9514563106796117\n",
            "Alpha: 0.5, Iterations: 5000, Accuracy: 0.9514563106796117\n",
            "Alpha: 0.5, Iterations: 6000, Accuracy: 0.9514563106796117\n"
          ]
        }
      ]
    },
    {
      "cell_type": "code",
      "source": [
        "# Print best hyperparameters\n",
        "print(\"\\nBest Hyperparameters:\")\n",
        "print(f\"Alpha: {best_alpha}, Iterations: {best_iterations}, Accuracy: {best_accuracy}\")"
      ],
      "metadata": {
        "colab": {
          "base_uri": "https://localhost:8080/"
        },
        "id": "qAa2V3GILkrv",
        "outputId": "3c667e60-f358-44dd-c979-87062757844f"
      },
      "execution_count": 42,
      "outputs": [
        {
          "output_type": "stream",
          "name": "stdout",
          "text": [
            "\n",
            "Best Hyperparameters:\n",
            "Alpha: 0.01, Iterations: 6000, Accuracy: 0.9611650485436893\n"
          ]
        }
      ]
    },
    {
      "cell_type": "code",
      "source": [
        "# traning the model with best hyperparameters\n",
        "weights_best, bias_best, cost_history_best = optimize_weights(X_train, Y_train, best_alpha, best_iterations)"
      ],
      "metadata": {
        "id": "pV4Y1IqtME6W"
      },
      "execution_count": 51,
      "outputs": []
    },
    {
      "cell_type": "code",
      "source": [
        "# Final model with best hyperparameters\n",
        "Y_pred_best = make_predictions(X_test, weights_best, bias_best)"
      ],
      "metadata": {
        "id": "Ov5nyOzoMHe4"
      },
      "execution_count": 52,
      "outputs": []
    },
    {
      "cell_type": "code",
      "source": [
        "accuracy = accuracy_score(Y_test, Y_pred_best)\n",
        "print(\"Accuracy:\", accuracy)"
      ],
      "metadata": {
        "colab": {
          "base_uri": "https://localhost:8080/"
        },
        "id": "dRvhTyL3O6Yz",
        "outputId": "a1e89429-3226-4dd2-f0d5-eb48725ad60f"
      },
      "execution_count": 53,
      "outputs": [
        {
          "output_type": "stream",
          "name": "stdout",
          "text": [
            "Accuracy: 0.9611650485436893\n"
          ]
        }
      ]
    },
    {
      "cell_type": "code",
      "source": [
        "print(\"Classification Report:\\n\", classification_report(Y_test, Y_pred_best))"
      ],
      "metadata": {
        "colab": {
          "base_uri": "https://localhost:8080/"
        },
        "id": "Zi0kQljuO9mM",
        "outputId": "ae7c2a06-0b84-4e1e-83bb-44a26e365b7c"
      },
      "execution_count": 54,
      "outputs": [
        {
          "output_type": "stream",
          "name": "stdout",
          "text": [
            "Classification Report:\n",
            "               precision    recall  f1-score   support\n",
            "\n",
            "           0       0.71      0.71      0.71         7\n",
            "           1       0.98      0.98      0.98        96\n",
            "\n",
            "    accuracy                           0.96       103\n",
            "   macro avg       0.85      0.85      0.85       103\n",
            "weighted avg       0.96      0.96      0.96       103\n",
            "\n"
          ]
        }
      ]
    },
    {
      "cell_type": "code",
      "source": [
        "from sklearn.metrics import confusion_matrix\n",
        "conf_matrix = confusion_matrix(Y_test, Y_pred_best)\n",
        "print(\"Confusion Matrix:\\n\", conf_matrix)"
      ],
      "metadata": {
        "colab": {
          "base_uri": "https://localhost:8080/"
        },
        "id": "irSoz0wIPCaN",
        "outputId": "10c443df-58b1-4533-be1b-460dc41c5e70"
      },
      "execution_count": 55,
      "outputs": [
        {
          "output_type": "stream",
          "name": "stdout",
          "text": [
            "Confusion Matrix:\n",
            " [[ 5  2]\n",
            " [ 2 94]]\n"
          ]
        }
      ]
    },
    {
      "cell_type": "code",
      "source": [
        "# Plot Confusion Matrix as a Heatmap\n",
        "plt.figure(figsize=(5, 4))\n",
        "sns.heatmap(conf_matrix, annot=True, fmt=\"d\", cmap=\"Blues\", xticklabels=[\"No Cancer\", \"Cancer\"], yticklabels=[\"No Cancer\", \"Cancer\"])\n",
        "plt.xlabel(\"Predicted Label\")\n",
        "plt.ylabel(\"True Label\")\n",
        "plt.title(\"Confusion Matrix\")\n",
        "plt.show()"
      ],
      "metadata": {
        "colab": {
          "base_uri": "https://localhost:8080/",
          "height": 410
        },
        "id": "nIXbwcm6PFpC",
        "outputId": "cea26339-16b3-4b10-e76c-40581a363b45"
      },
      "execution_count": 56,
      "outputs": [
        {
          "output_type": "display_data",
          "data": {
            "text/plain": [
              "<Figure size 500x400 with 2 Axes>"
            ],
            "image/png": "[encoded data removed]"
          },
          "metadata": {}
        }
      ]
    },
    {
      "cell_type": "markdown",
      "source": [
        "Final Model"
      ],
      "metadata": {
        "id": "uJM4x_ifPiAp"
      }
    },
    {
      "cell_type": "code",
      "source": [
        "Y_pred = knn_classify(X_train, Y_train, X_test, 7)"
      ],
      "metadata": {
        "id": "93OuS-7sPj9t"
      },
      "execution_count": 57,
      "outputs": []
    },
    {
      "cell_type": "code",
      "source": [
        "# Classification Evaluation Metrics\n",
        "accuracy = accuracy_score(Y_test, Y_pred)\n",
        "print(\"Accuracy:\", accuracy)"
      ],
      "metadata": {
        "colab": {
          "base_uri": "https://localhost:8080/"
        },
        "id": "NdbHiq31Pnyb",
        "outputId": "48e4a513-3c59-490a-c81f-30e6678beb5b"
      },
      "execution_count": 58,
      "outputs": [
        {
          "output_type": "stream",
          "name": "stdout",
          "text": [
            "Accuracy: 0.970873786407767\n"
          ]
        }
      ]
    },
    {
      "cell_type": "code",
      "source": [
        "from sklearn.metrics import confusion_matrix\n",
        "conf_matrix = confusion_matrix(Y_test, Y_pred)\n",
        "print(\"Confusion Matrix:\\n\", conf_matrix)"
      ],
      "metadata": {
        "colab": {
          "base_uri": "https://localhost:8080/"
        },
        "id": "p3ITn2jgPp23",
        "outputId": "e497ff01-f7c5-424f-88a8-5b3531420e08"
      },
      "execution_count": 59,
      "outputs": [
        {
          "output_type": "stream",
          "name": "stdout",
          "text": [
            "Confusion Matrix:\n",
            " [[ 6  1]\n",
            " [ 2 94]]\n"
          ]
        }
      ]
    },
    {
      "cell_type": "code",
      "source": [
        "report = classification_report(Y_test, Y_pred)\n",
        "print(\"\\nClassification Report:\\n\", report)"
      ],
      "metadata": {
        "colab": {
          "base_uri": "https://localhost:8080/"
        },
        "id": "M30ZKX9gPtwZ",
        "outputId": "f6642da4-2e25-4728-cd8d-ef060f7da138"
      },
      "execution_count": 60,
      "outputs": [
        {
          "output_type": "stream",
          "name": "stdout",
          "text": [
            "\n",
            "Classification Report:\n",
            "               precision    recall  f1-score   support\n",
            "\n",
            "           0       0.75      0.86      0.80         7\n",
            "           1       0.99      0.98      0.98        96\n",
            "\n",
            "    accuracy                           0.97       103\n",
            "   macro avg       0.87      0.92      0.89       103\n",
            "weighted avg       0.97      0.97      0.97       103\n",
            "\n"
          ]
        }
      ]
    },
    {
      "cell_type": "code",
      "source": [],
      "metadata": {
        "id": "e9-5hAmHPw0-"
      },
      "execution_count": null,
      "outputs": []
    }
  ]
}